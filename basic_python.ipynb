{
  "nbformat": 4,
  "nbformat_minor": 0,
  "metadata": {
    "colab": {
      "name": "basic_python.ipynb",
      "provenance": [],
      "collapsed_sections": [],
      "authorship_tag": "ABX9TyMKJ0LHefPLswUnorRC/hl0"
    },
    "kernelspec": {
      "name": "python3",
      "display_name": "Python 3"
    }
  },
  "cells": [
    {
      "cell_type": "markdown",
      "metadata": {
        "id": "yvZgi2Dkw5XW",
        "colab_type": "text"
      },
      "source": [
        "##Creating A string"
      ]
    },
    {
      "cell_type": "code",
      "metadata": {
        "id": "KIg_X7a0wDt_",
        "colab_type": "code",
        "outputId": "340b5907-c2bb-40a2-dc7e-8894f71d2305",
        "colab": {
          "base_uri": "https://localhost:8080/",
          "height": 34
        }
      },
      "source": [
        "#string\n",
        "s = 'you are awesome' #in single line\n",
        "print(s)"
      ],
      "execution_count": 0,
      "outputs": [
        {
          "output_type": "stream",
          "text": [
            "you are awesome\n"
          ],
          "name": "stdout"
        }
      ]
    },
    {
      "cell_type": "code",
      "metadata": {
        "id": "SVc6NvNjwGGo",
        "colab_type": "code",
        "outputId": "80ac346b-af2e-47e7-fc77-7c34fbb52579",
        "colab": {
          "base_uri": "https://localhost:8080/",
          "height": 51
        }
      },
      "source": [
        "s1 = ''' your are\n",
        "doing awesome '''  #in multiple lines\n",
        "print(s1)"
      ],
      "execution_count": 0,
      "outputs": [
        {
          "output_type": "stream",
          "text": [
            " your are\n",
            "doing awesome \n"
          ],
          "name": "stdout"
        }
      ]
    },
    {
      "cell_type": "code",
      "metadata": {
        "id": "V-dKvkaCwGEQ",
        "colab_type": "code",
        "outputId": "d8b4a17f-9c9e-4810-9204-313f1dd72e93",
        "colab": {
          "base_uri": "https://localhost:8080/",
          "height": 34
        }
      },
      "source": [
        "s2 = \"You are 'awesome!' \"\n",
        "print(s2)"
      ],
      "execution_count": 0,
      "outputs": [
        {
          "output_type": "stream",
          "text": [
            "You are 'awesome!' \n"
          ],
          "name": "stdout"
        }
      ]
    },
    {
      "cell_type": "markdown",
      "metadata": {
        "id": "q4KL8EuexAsD",
        "colab_type": "text"
      },
      "source": [
        "##Slicing a string"
      ]
    },
    {
      "cell_type": "code",
      "metadata": {
        "id": "LMBTbFkwwGBe",
        "colab_type": "code",
        "outputId": "6b92f37b-0474-4710-de30-8164051eb5dc",
        "colab": {
          "base_uri": "https://localhost:8080/",
          "height": 34
        }
      },
      "source": [
        "print (s[0:5]) #prints first 5 letters"
      ],
      "execution_count": 0,
      "outputs": [
        {
          "output_type": "stream",
          "text": [
            "you a\n"
          ],
          "name": "stdout"
        }
      ]
    },
    {
      "cell_type": "code",
      "metadata": {
        "id": "6S2WU0azwF-5",
        "colab_type": "code",
        "outputId": "0a40894d-49e0-46e1-d058-d82a39dd17c6",
        "colab": {
          "base_uri": "https://localhost:8080/",
          "height": 34
        }
      },
      "source": [
        "print(s[:5])  "
      ],
      "execution_count": 0,
      "outputs": [
        {
          "output_type": "stream",
          "text": [
            "you a\n"
          ],
          "name": "stdout"
        }
      ]
    },
    {
      "cell_type": "code",
      "metadata": {
        "id": "xzB1AmUswF8L",
        "colab_type": "code",
        "outputId": "2d0cec0b-4007-4f95-ed1e-292e3c26cdd7",
        "colab": {
          "base_uri": "https://localhost:8080/",
          "height": 34
        }
      },
      "source": [
        "print(s[:-1]) #prints everything apart from last letter"
      ],
      "execution_count": 0,
      "outputs": [
        {
          "output_type": "stream",
          "text": [
            "you are awesom\n"
          ],
          "name": "stdout"
        }
      ]
    },
    {
      "cell_type": "code",
      "metadata": {
        "id": "ycXQoo-zwF21",
        "colab_type": "code",
        "outputId": "a2e850a7-cde9-4659-8e1d-637356df6db4",
        "colab": {
          "base_uri": "https://localhost:8080/",
          "height": 34
        }
      },
      "source": [
        "print(s[0:9:2]) #prints every 2nd letter between 0 to 9"
      ],
      "execution_count": 0,
      "outputs": [
        {
          "output_type": "stream",
          "text": [
            "yuaea\n"
          ],
          "name": "stdout"
        }
      ]
    },
    {
      "cell_type": "markdown",
      "metadata": {
        "id": "eaCsacAVy_ON",
        "colab_type": "text"
      },
      "source": [
        "##Striping Whitespaces"
      ]
    },
    {
      "cell_type": "code",
      "metadata": {
        "id": "ijlwuKMXyraO",
        "colab_type": "code",
        "outputId": "4b68f638-d1db-4134-e3eb-1156b0020df3",
        "colab": {
          "base_uri": "https://localhost:8080/",
          "height": 34
        }
      },
      "source": [
        "s3 = ' You are awesome ' #here we have left whitespaces at the end and beginning of string\n",
        "print(s3.strip())"
      ],
      "execution_count": 0,
      "outputs": [
        {
          "output_type": "stream",
          "text": [
            "You are awesome\n"
          ],
          "name": "stdout"
        }
      ]
    },
    {
      "cell_type": "code",
      "metadata": {
        "id": "COiRWeNszqFJ",
        "colab_type": "code",
        "outputId": "8079a902-4d57-4034-d010-ba37c47ec40d",
        "colab": {
          "base_uri": "https://localhost:8080/",
          "height": 51
        }
      },
      "source": [
        "print(s3.lstrip()) #left strip - removes whitespaces from left of the string\n",
        "print(s3.rstrip()) #right strip - removes spaces from right of the string"
      ],
      "execution_count": 0,
      "outputs": [
        {
          "output_type": "stream",
          "text": [
            "You are awesome \n",
            " You are awesome\n"
          ],
          "name": "stdout"
        }
      ]
    },
    {
      "cell_type": "markdown",
      "metadata": {
        "id": "LBEY-YnC0RW8",
        "colab_type": "text"
      },
      "source": [
        "##Find"
      ]
    },
    {
      "cell_type": "code",
      "metadata": {
        "id": "6SrMVOf9zqUT",
        "colab_type": "code",
        "outputId": "5ce484ef-0526-459e-badb-0b195c74e52c",
        "colab": {
          "base_uri": "https://localhost:8080/",
          "height": 34
        }
      },
      "source": [
        "print(s.find('awe'))  #here we get the index at which the string if present"
      ],
      "execution_count": 0,
      "outputs": [
        {
          "output_type": "stream",
          "text": [
            "8\n"
          ],
          "name": "stdout"
        }
      ]
    },
    {
      "cell_type": "code",
      "metadata": {
        "id": "6uo0VwbEzqNW",
        "colab_type": "code",
        "outputId": "c0877722-1322-4290-9d7a-5745ec3822df",
        "colab": {
          "base_uri": "https://localhost:8080/",
          "height": 34
        }
      },
      "source": [
        "print(s.count('a')) #Find number of times a appears in the given string"
      ],
      "execution_count": 0,
      "outputs": [
        {
          "output_type": "stream",
          "text": [
            "2\n"
          ],
          "name": "stdout"
        }
      ]
    },
    {
      "cell_type": "code",
      "metadata": {
        "id": "aEeFAS6eyrmB",
        "colab_type": "code",
        "outputId": "ab3bc807-0fd0-4705-d75a-4b1630d55c3c",
        "colab": {
          "base_uri": "https://localhost:8080/",
          "height": 34
        }
      },
      "source": [
        "print(s.replace('awesome','super')) #replacing awesome with super"
      ],
      "execution_count": 0,
      "outputs": [
        {
          "output_type": "stream",
          "text": [
            "you are super\n"
          ],
          "name": "stdout"
        }
      ]
    },
    {
      "cell_type": "code",
      "metadata": {
        "id": "KyQos_1lyrzl",
        "colab_type": "code",
        "outputId": "2fa7676a-35cf-4c57-fc24-657f66c3e8ad",
        "colab": {
          "base_uri": "https://localhost:8080/",
          "height": 34
        }
      },
      "source": [
        "print(s.upper())  #making each word upper case"
      ],
      "execution_count": 0,
      "outputs": [
        {
          "output_type": "stream",
          "text": [
            "YOU ARE AWESOME\n"
          ],
          "name": "stdout"
        }
      ]
    },
    {
      "cell_type": "code",
      "metadata": {
        "id": "FkJpWzLLyr-8",
        "colab_type": "code",
        "outputId": "8474d7c4-c2b5-468b-928d-2ddeb6bf70de",
        "colab": {
          "base_uri": "https://localhost:8080/",
          "height": 34
        }
      },
      "source": [
        "print(s.lower()) #making each word lower case"
      ],
      "execution_count": 0,
      "outputs": [
        {
          "output_type": "stream",
          "text": [
            "you are awesome\n"
          ],
          "name": "stdout"
        }
      ]
    },
    {
      "cell_type": "code",
      "metadata": {
        "id": "r4xAC91ayrgX",
        "colab_type": "code",
        "outputId": "a7471aaa-330b-413f-e0be-25dc39abb4dd",
        "colab": {
          "base_uri": "https://localhost:8080/",
          "height": 34
        }
      },
      "source": [
        "print(s.title()) #First letter of each word will be capital and rest small case"
      ],
      "execution_count": 0,
      "outputs": [
        {
          "output_type": "stream",
          "text": [
            "You Are Awesome\n"
          ],
          "name": "stdout"
        }
      ]
    },
    {
      "cell_type": "markdown",
      "metadata": {
        "id": "O6Fz0lC573Bi",
        "colab_type": "text"
      },
      "source": [
        "#List"
      ]
    },
    {
      "cell_type": "code",
      "metadata": {
        "id": "nk0jrL15yrXC",
        "colab_type": "code",
        "outputId": "df1a025f-a923-4f8e-90f8-68f874faf869",
        "colab": {
          "base_uri": "https://localhost:8080/",
          "height": 34
        }
      },
      "source": [
        "lst = [] #empty list \n",
        "print(lst)"
      ],
      "execution_count": 0,
      "outputs": [
        {
          "output_type": "stream",
          "text": [
            "[]\n"
          ],
          "name": "stdout"
        }
      ]
    },
    {
      "cell_type": "code",
      "metadata": {
        "id": "4nYR_OajyrTn",
        "colab_type": "code",
        "outputId": "7000c9b1-127b-4b80-9327-5d7334bc902f",
        "colab": {
          "base_uri": "https://localhost:8080/",
          "height": 34
        }
      },
      "source": [
        "lst = [2,5,True,30.5,'Awesome',50.5] #list can hold int.float,boolean or strings\n",
        "print(lst)"
      ],
      "execution_count": 0,
      "outputs": [
        {
          "output_type": "stream",
          "text": [
            "[2, 5, True, 30.5, 'Awesome', 50.5]\n"
          ],
          "name": "stdout"
        }
      ]
    },
    {
      "cell_type": "markdown",
      "metadata": {
        "id": "MpMvFkvP8p9U",
        "colab_type": "text"
      },
      "source": [
        "##List slicing"
      ]
    },
    {
      "cell_type": "code",
      "metadata": {
        "id": "wETELTKb2QKE",
        "colab_type": "code",
        "outputId": "ac790e3b-6f8e-47d1-e3c8-22a9334c8701",
        "colab": {
          "base_uri": "https://localhost:8080/",
          "height": 34
        }
      },
      "source": [
        "print(lst[2:5]) #prints the element between index 2 & 5. It excludes the last index element."
      ],
      "execution_count": 0,
      "outputs": [
        {
          "output_type": "stream",
          "text": [
            "[True, 30.5, 'Awesome']\n"
          ],
          "name": "stdout"
        }
      ]
    },
    {
      "cell_type": "code",
      "metadata": {
        "id": "TKhMobkl8sba",
        "colab_type": "code",
        "outputId": "dfdcd1cf-b074-4357-e42f-e7b37440cf3c",
        "colab": {
          "base_uri": "https://localhost:8080/",
          "height": 34
        }
      },
      "source": [
        "print(lst * 2) #it makes all the elemnts twice in a list"
      ],
      "execution_count": 0,
      "outputs": [
        {
          "output_type": "stream",
          "text": [
            "[2, 5, True, 30.5, 'Awesome', 50.5, 2, 5, True, 30.5, 'Awesome', 50.5]\n"
          ],
          "name": "stdout"
        }
      ]
    },
    {
      "cell_type": "code",
      "metadata": {
        "id": "YoLyDzVb8so7",
        "colab_type": "code",
        "outputId": "23a6dfa0-6aeb-4cd3-db26-f49e3249970d",
        "colab": {
          "base_uri": "https://localhost:8080/",
          "height": 34
        }
      },
      "source": [
        "print(len(lst)) #prints the length of the string"
      ],
      "execution_count": 0,
      "outputs": [
        {
          "output_type": "stream",
          "text": [
            "6\n"
          ],
          "name": "stdout"
        }
      ]
    },
    {
      "cell_type": "markdown",
      "metadata": {
        "id": "QHL5WaPS9f4P",
        "colab_type": "text"
      },
      "source": [
        "##Adding and removing elemts in a list"
      ]
    },
    {
      "cell_type": "code",
      "metadata": {
        "id": "7l_m2mlM8svi",
        "colab_type": "code",
        "outputId": "f2bc6dfc-1b3d-4f0e-89ff-ae1f88562ef5",
        "colab": {
          "base_uri": "https://localhost:8080/",
          "height": 34
        }
      },
      "source": [
        "lst.append(55) #adds the elemnt at the end of the string\n",
        "print(lst)"
      ],
      "execution_count": 0,
      "outputs": [
        {
          "output_type": "stream",
          "text": [
            "[2, 5, True, 30.5, 'Awesome', 50.5, 55]\n"
          ],
          "name": "stdout"
        }
      ]
    },
    {
      "cell_type": "code",
      "metadata": {
        "id": "KCIh1vTh8s8n",
        "colab_type": "code",
        "outputId": "cf99149e-9c9a-4b78-e866-c3abdb30d33a",
        "colab": {
          "base_uri": "https://localhost:8080/",
          "height": 34
        }
      },
      "source": [
        "lst.remove('Awesome') #removes the element awesome from the list\n",
        "print(lst)"
      ],
      "execution_count": 0,
      "outputs": [
        {
          "output_type": "stream",
          "text": [
            "[2, 5, True, 30.5, 50.5, 55]\n"
          ],
          "name": "stdout"
        }
      ]
    },
    {
      "cell_type": "code",
      "metadata": {
        "id": "cZv13VJ62Qeq",
        "colab_type": "code",
        "outputId": "8fe78912-9495-4535-9785-c813ea420339",
        "colab": {
          "base_uri": "https://localhost:8080/",
          "height": 34
        }
      },
      "source": [
        "del(lst[1]) #removes the element at index 1\n",
        "print(lst)"
      ],
      "execution_count": 0,
      "outputs": [
        {
          "output_type": "stream",
          "text": [
            "[2, True, 30.5, 50.5, 55]\n"
          ],
          "name": "stdout"
        }
      ]
    },
    {
      "cell_type": "code",
      "metadata": {
        "id": "AhpF8gh-2QtX",
        "colab_type": "code",
        "outputId": "a9fa9d63-76f5-48ff-ac44-882bab79ccfc",
        "colab": {
          "base_uri": "https://localhost:8080/",
          "height": 34
        }
      },
      "source": [
        "lst.sort() #sorts the elements in ascending order\n",
        "print(lst)"
      ],
      "execution_count": 0,
      "outputs": [
        {
          "output_type": "stream",
          "text": [
            "[True, 2, 30.5, 50.5, 55]\n"
          ],
          "name": "stdout"
        }
      ]
    },
    {
      "cell_type": "code",
      "metadata": {
        "id": "l1SLc6BO9Z_m",
        "colab_type": "code",
        "colab": {}
      },
      "source": [
        "lst.sort(reverse=True) #sorts the elements in descending order"
      ],
      "execution_count": 0,
      "outputs": []
    },
    {
      "cell_type": "code",
      "metadata": {
        "id": "sZkXH-Ti9amf",
        "colab_type": "code",
        "outputId": "64441581-7649-4aa0-9651-8bd924667feb",
        "colab": {
          "base_uri": "https://localhost:8080/",
          "height": 34
        }
      },
      "source": [
        "print(lst)"
      ],
      "execution_count": 0,
      "outputs": [
        {
          "output_type": "stream",
          "text": [
            "[55, 50.5, 30.5, 2, True]\n"
          ],
          "name": "stdout"
        }
      ]
    },
    {
      "cell_type": "code",
      "metadata": {
        "id": "tP_tACXW9a3r",
        "colab_type": "code",
        "outputId": "fd90e26a-54ff-4b99-d368-4bbd436845e6",
        "colab": {
          "base_uri": "https://localhost:8080/",
          "height": 51
        }
      },
      "source": [
        "print(max(lst)) #prints maximum from the list\n",
        "print(min(lst)) #prints minimum from the list"
      ],
      "execution_count": 0,
      "outputs": [
        {
          "output_type": "stream",
          "text": [
            "55\n",
            "True\n"
          ],
          "name": "stdout"
        }
      ]
    },
    {
      "cell_type": "code",
      "metadata": {
        "id": "C8lE79EK_PAT",
        "colab_type": "code",
        "outputId": "e5a67aae-e73b-4d97-d96d-65a6fb96f45a",
        "colab": {
          "base_uri": "https://localhost:8080/",
          "height": 34
        }
      },
      "source": [
        "lst1 = [4,5,8,10]\n",
        "lst1.insert(3,99) #adds 99 at index 3\n",
        "print(lst1)"
      ],
      "execution_count": 0,
      "outputs": [
        {
          "output_type": "stream",
          "text": [
            "[4, 5, 8, 99, 10]\n"
          ],
          "name": "stdout"
        }
      ]
    },
    {
      "cell_type": "markdown",
      "metadata": {
        "id": "X2ubPtnNFil_",
        "colab_type": "text"
      },
      "source": [
        "#Tuple"
      ]
    },
    {
      "cell_type": "code",
      "metadata": {
        "id": "ixCQoJGi_O9c",
        "colab_type": "code",
        "colab": {}
      },
      "source": [
        "#Tuples are immutable\n",
        "#We can not perform slicing and dicing on tuples\n",
        "#always specify , after single lement in python"
      ],
      "execution_count": 0,
      "outputs": []
    },
    {
      "cell_type": "code",
      "metadata": {
        "id": "XCtuvX0s_O0a",
        "colab_type": "code",
        "outputId": "cdf61c70-83f6-4bd7-9e12-3ef55f324aef",
        "colab": {
          "base_uri": "https://localhost:8080/",
          "height": 51
        }
      },
      "source": [
        "tpl= (4,5,8,3,4) #tuples are encolsed in ().\n",
        "print(type(tpl))\n",
        "print(tpl)"
      ],
      "execution_count": 0,
      "outputs": [
        {
          "output_type": "stream",
          "text": [
            "<class 'tuple'>\n",
            "(4, 5, 8, 3, 4)\n"
          ],
          "name": "stdout"
        }
      ]
    },
    {
      "cell_type": "code",
      "metadata": {
        "id": "Q10XORduGXFm",
        "colab_type": "code",
        "outputId": "65decb29-0c65-4c86-86f8-2971f9e578e8",
        "colab": {
          "base_uri": "https://localhost:8080/",
          "height": 51
        }
      },
      "source": [
        "tpl1 = (4)  #int\n",
        "tpl2 = (4,) #tuple\n",
        "print(type(tpl1))\n",
        "print(type(tpl2))"
      ],
      "execution_count": 0,
      "outputs": [
        {
          "output_type": "stream",
          "text": [
            "<class 'int'>\n",
            "<class 'tuple'>\n"
          ],
          "name": "stdout"
        }
      ]
    },
    {
      "cell_type": "code",
      "metadata": {
        "id": "JF9V3lsAGXao",
        "colab_type": "code",
        "outputId": "b5b8b1e9-d4af-4fe8-9bca-c9d22fd0ff23",
        "colab": {
          "base_uri": "https://localhost:8080/",
          "height": 34
        }
      },
      "source": [
        "print(tpl[0]) #print element at index 0"
      ],
      "execution_count": 0,
      "outputs": [
        {
          "output_type": "stream",
          "text": [
            "4\n"
          ],
          "name": "stdout"
        }
      ]
    },
    {
      "cell_type": "code",
      "metadata": {
        "id": "ZlBWd8tGGXzF",
        "colab_type": "code",
        "outputId": "c150c5ba-9d29-4e55-caba-7640b292c1ee",
        "colab": {
          "base_uri": "https://localhost:8080/",
          "height": 34
        }
      },
      "source": [
        "print(tpl * 3) #tree times the list elements"
      ],
      "execution_count": 0,
      "outputs": [
        {
          "output_type": "stream",
          "text": [
            "(4, 5, 8, 3, 4, 4, 5, 8, 3, 4, 4, 5, 8, 3, 4)\n"
          ],
          "name": "stdout"
        }
      ]
    },
    {
      "cell_type": "code",
      "metadata": {
        "id": "HshSIYR0GYJc",
        "colab_type": "code",
        "outputId": "fc1012c3-9a85-4200-b581-763cce5fdc4f",
        "colab": {
          "base_uri": "https://localhost:8080/",
          "height": 34
        }
      },
      "source": [
        "print(tpl.count(5)) #count of 5 in tuple"
      ],
      "execution_count": 0,
      "outputs": [
        {
          "output_type": "stream",
          "text": [
            "1\n"
          ],
          "name": "stdout"
        }
      ]
    },
    {
      "cell_type": "code",
      "metadata": {
        "id": "UsrfibNlGYbx",
        "colab_type": "code",
        "outputId": "72a21b7a-221d-4900-df93-0f7a16b4de97",
        "colab": {
          "base_uri": "https://localhost:8080/",
          "height": 34
        }
      },
      "source": [
        "print(tpl.index(5))  #index of element 5"
      ],
      "execution_count": 0,
      "outputs": [
        {
          "output_type": "stream",
          "text": [
            "1\n"
          ],
          "name": "stdout"
        }
      ]
    },
    {
      "cell_type": "code",
      "metadata": {
        "id": "s33CgbdvGYu_",
        "colab_type": "code",
        "outputId": "10fa4208-a024-4305-e476-82908a3e8606",
        "colab": {
          "base_uri": "https://localhost:8080/",
          "height": 34
        }
      },
      "source": [
        "lst = [67,34,'xyz']\n",
        "type(lst)"
      ],
      "execution_count": 0,
      "outputs": [
        {
          "output_type": "execute_result",
          "data": {
            "text/plain": [
              "list"
            ]
          },
          "metadata": {
            "tags": []
          },
          "execution_count": 36
        }
      ]
    },
    {
      "cell_type": "code",
      "metadata": {
        "id": "nH1MR38FHyD7",
        "colab_type": "code",
        "outputId": "5bf91645-1c6f-439b-e2c1-7e4c52a61a3b",
        "colab": {
          "base_uri": "https://localhost:8080/",
          "height": 51
        }
      },
      "source": [
        "tpl3 = tuple(lst)\n",
        "print(type(tpl3))\n",
        "print(tpl3)"
      ],
      "execution_count": 0,
      "outputs": [
        {
          "output_type": "stream",
          "text": [
            "<class 'tuple'>\n",
            "(67, 34, 'xyz')\n"
          ],
          "name": "stdout"
        }
      ]
    },
    {
      "cell_type": "markdown",
      "metadata": {
        "id": "7Geo8-mPmZC9",
        "colab_type": "text"
      },
      "source": [
        "#Set"
      ]
    },
    {
      "cell_type": "code",
      "metadata": {
        "id": "5qFhbGYGHyY3",
        "colab_type": "code",
        "outputId": "d22ed82a-3eb2-4c92-afdb-06b7df732a32",
        "colab": {
          "base_uri": "https://localhost:8080/",
          "height": 34
        }
      },
      "source": [
        "s = {10,20,30,'xyz'}  #set is enclosed in {}\n",
        "print(s)"
      ],
      "execution_count": 0,
      "outputs": [
        {
          "output_type": "stream",
          "text": [
            "{'xyz', 10, 20, 30}\n"
          ],
          "name": "stdout"
        }
      ]
    },
    {
      "cell_type": "code",
      "metadata": {
        "id": "uMhOMjDDHyoL",
        "colab_type": "code",
        "colab": {}
      },
      "source": [
        "#set doesn't allows duplicacy\n",
        "#we cannot perform indexing, slicing and repetitions on set"
      ],
      "execution_count": 0,
      "outputs": []
    },
    {
      "cell_type": "code",
      "metadata": {
        "id": "1tG6KmmSHy6e",
        "colab_type": "code",
        "outputId": "e96fc6bf-4e67-4568-ec67-5ba3bbffdbec",
        "colab": {
          "base_uri": "https://localhost:8080/",
          "height": 34
        }
      },
      "source": [
        "s.update([88,99])  #there's no ordering as well\n",
        "print(s)"
      ],
      "execution_count": 0,
      "outputs": [
        {
          "output_type": "stream",
          "text": [
            "{99, 10, 'xyz', 20, 88, 30}\n"
          ],
          "name": "stdout"
        }
      ]
    },
    {
      "cell_type": "code",
      "metadata": {
        "id": "oSvShogmoD-m",
        "colab_type": "code",
        "outputId": "734dbb03-021a-47a2-9cbf-a8b0c9332606",
        "colab": {
          "base_uri": "https://localhost:8080/",
          "height": 34
        }
      },
      "source": [
        "type(s)"
      ],
      "execution_count": 0,
      "outputs": [
        {
          "output_type": "execute_result",
          "data": {
            "text/plain": [
              "set"
            ]
          },
          "metadata": {
            "tags": []
          },
          "execution_count": 41
        }
      ]
    },
    {
      "cell_type": "markdown",
      "metadata": {
        "id": "ZPJNI6VVnvdG",
        "colab_type": "text"
      },
      "source": [
        "#Range"
      ]
    },
    {
      "cell_type": "code",
      "metadata": {
        "id": "gJV68C0EHyAu",
        "colab_type": "code",
        "outputId": "0247d6ef-877c-4648-8984-9f177ca928b1",
        "colab": {
          "base_uri": "https://localhost:8080/",
          "height": 34
        }
      },
      "source": [
        "r = range(5) #r holds all values b/w 0 to 5\n",
        "print(r)"
      ],
      "execution_count": 0,
      "outputs": [
        {
          "output_type": "stream",
          "text": [
            "range(0, 5)\n"
          ],
          "name": "stdout"
        }
      ]
    },
    {
      "cell_type": "code",
      "metadata": {
        "id": "GkV4wN3YHx3N",
        "colab_type": "code",
        "outputId": "db515ef0-6216-49b6-e5ac-196f2a85077b",
        "colab": {
          "base_uri": "https://localhost:8080/",
          "height": 102
        }
      },
      "source": [
        "for i in r:\n",
        "  print(i)"
      ],
      "execution_count": 0,
      "outputs": [
        {
          "output_type": "stream",
          "text": [
            "0\n",
            "1\n",
            "2\n",
            "3\n",
            "4\n"
          ],
          "name": "stdout"
        }
      ]
    },
    {
      "cell_type": "code",
      "metadata": {
        "id": "c9aSJP34oCGt",
        "colab_type": "code",
        "outputId": "c28648e5-2ae5-45d3-ae05-a8afe47b1149",
        "colab": {
          "base_uri": "https://localhost:8080/",
          "height": 68
        }
      },
      "source": [
        "r = range(1,15,5) #rnage b/w 1 to 5 with the step of 5\n",
        "for i in r:\n",
        "  print(i)"
      ],
      "execution_count": 0,
      "outputs": [
        {
          "output_type": "stream",
          "text": [
            "1\n",
            "6\n",
            "11\n"
          ],
          "name": "stdout"
        }
      ]
    },
    {
      "cell_type": "markdown",
      "metadata": {
        "id": "r64iot35pG_S",
        "colab_type": "text"
      },
      "source": [
        "#Dictionary"
      ]
    },
    {
      "cell_type": "code",
      "metadata": {
        "id": "OzC6dOvHoCZ7",
        "colab_type": "code",
        "outputId": "831de0f8-6045-4062-a721-66c0ecd3df77",
        "colab": {
          "base_uri": "https://localhost:8080/",
          "height": 34
        }
      },
      "source": [
        "#dictionary holds keys and values pairs\n",
        "dic = {1:'John',2:'Joe',3:'bob'}\n",
        "print(dic)"
      ],
      "execution_count": 0,
      "outputs": [
        {
          "output_type": "stream",
          "text": [
            "{1: 'John', 2: 'Joe', 3: 'bob'}\n"
          ],
          "name": "stdout"
        }
      ]
    },
    {
      "cell_type": "code",
      "metadata": {
        "id": "6CTrDuyQoIdl",
        "colab_type": "code",
        "outputId": "9abeddd3-a710-405a-ec7a-9d921ce40f9e",
        "colab": {
          "base_uri": "https://localhost:8080/",
          "height": 34
        }
      },
      "source": [
        "print(dic.items())  #it prints key and values in tuple form"
      ],
      "execution_count": 0,
      "outputs": [
        {
          "output_type": "stream",
          "text": [
            "dict_items([(1, 'John'), (2, 'Joe'), (3, 'bob')])\n"
          ],
          "name": "stdout"
        }
      ]
    },
    {
      "cell_type": "code",
      "metadata": {
        "id": "6-HpgelMoI3Q",
        "colab_type": "code",
        "outputId": "a951db00-eed9-4a82-d7fd-7aad1e6b6103",
        "colab": {
          "base_uri": "https://localhost:8080/",
          "height": 34
        }
      },
      "source": [
        "print(dic.values())  #it only prints the values"
      ],
      "execution_count": 0,
      "outputs": [
        {
          "output_type": "stream",
          "text": [
            "dict_values(['John', 'Joe', 'bob'])\n"
          ],
          "name": "stdout"
        }
      ]
    },
    {
      "cell_type": "code",
      "metadata": {
        "id": "nFrG7_NJoJK6",
        "colab_type": "code",
        "outputId": "0a8b408f-4a51-4479-a4f7-8f2e6cd27755",
        "colab": {
          "base_uri": "https://localhost:8080/",
          "height": 34
        }
      },
      "source": [
        "print(dic.keys())   #it only prints the keys"
      ],
      "execution_count": 0,
      "outputs": [
        {
          "output_type": "stream",
          "text": [
            "dict_keys([1, 2, 3])\n"
          ],
          "name": "stdout"
        }
      ]
    },
    {
      "cell_type": "code",
      "metadata": {
        "id": "yj9o3xg4qAfM",
        "colab_type": "code",
        "outputId": "ae520956-4b94-4109-a231-b39634d12f39",
        "colab": {
          "base_uri": "https://localhost:8080/",
          "height": 34
        }
      },
      "source": [
        "print(dic[3])  #indexing starts with zero in dictionary"
      ],
      "execution_count": 0,
      "outputs": [
        {
          "output_type": "stream",
          "text": [
            "bob\n"
          ],
          "name": "stdout"
        }
      ]
    },
    {
      "cell_type": "code",
      "metadata": {
        "id": "SajGJrtbqAcA",
        "colab_type": "code",
        "outputId": "719aad30-fad7-42d7-d920-bf92e591e926",
        "colab": {
          "base_uri": "https://localhost:8080/",
          "height": 85
        }
      },
      "source": [
        "lst5 = ['India','China','Nepal']\n",
        "print(lst5)\n",
        "lst5.append('USA')\n",
        "print(lst5)\n",
        "del(lst5[2])\n",
        "print(lst5)\n",
        "lst5.insert(2,'Germany')\n",
        "print(lst5)"
      ],
      "execution_count": 0,
      "outputs": [
        {
          "output_type": "stream",
          "text": [
            "['India', 'China', 'Nepal']\n",
            "['India', 'China', 'Nepal', 'USA']\n",
            "['India', 'China', 'USA']\n",
            "['India', 'China', 'Germany', 'USA']\n"
          ],
          "name": "stdout"
        }
      ]
    },
    {
      "cell_type": "code",
      "metadata": {
        "id": "dF6yTiGjqASd",
        "colab_type": "code",
        "outputId": "6358b3c4-707e-4c03-e61e-db01fad4ae84",
        "colab": {
          "base_uri": "https://localhost:8080/",
          "height": 68
        }
      },
      "source": [
        "set1 = {'India','China','Nepal'}\n",
        "print(set1)\n",
        "set1.add('USA')\n",
        "print(set1)\n",
        "set1.remove('China')\n",
        "print(set1)\n"
      ],
      "execution_count": 0,
      "outputs": [
        {
          "output_type": "stream",
          "text": [
            "{'India', 'China', 'Nepal'}\n",
            "{'India', 'China', 'USA', 'Nepal'}\n",
            "{'India', 'USA', 'Nepal'}\n"
          ],
          "name": "stdout"
        }
      ]
    },
    {
      "cell_type": "markdown",
      "metadata": {
        "id": "Q6p4AK1T1Abw",
        "colab_type": "text"
      },
      "source": [
        "#Arithmetic operator"
      ]
    },
    {
      "cell_type": "code",
      "metadata": {
        "id": "RPTFjf6Do0XP",
        "colab_type": "code",
        "outputId": "29dd995c-363d-4448-e0ca-e83cbfc0fc27",
        "colab": {
          "base_uri": "https://localhost:8080/",
          "height": 136
        }
      },
      "source": [
        "a, b = 10,5                 #variable assignment\n",
        "print('Addition',a+b)       #addition\n",
        "print('Subtraction',a-b)    #subtraction\n",
        "print('Multipliction',a*b)  #Multiplication\n",
        "print('Division',a/b)       #Division\n",
        "print('Remainder',a%b)      #Remainder\n",
        "print('Floor division',a//b) #Floor division\n",
        "print('Exponent',a**5)      #exponent"
      ],
      "execution_count": 0,
      "outputs": [
        {
          "output_type": "stream",
          "text": [
            "Addition 15\n",
            "Subtraction 5\n",
            "Multipliction 50\n",
            "Division 2.0\n",
            "Remainder 0\n",
            "Floor division 2\n",
            "Exponent 100000\n"
          ],
          "name": "stdout"
        }
      ]
    },
    {
      "cell_type": "markdown",
      "metadata": {
        "id": "xoXeAMIB2jTA",
        "colab_type": "text"
      },
      "source": [
        "##Variable Assignment"
      ]
    },
    {
      "cell_type": "code",
      "metadata": {
        "id": "tbaX8VdSo0wh",
        "colab_type": "code",
        "outputId": "f301cfa7-5422-4ba1-cb2d-6c57fe4a11e4",
        "colab": {
          "base_uri": "https://localhost:8080/",
          "height": 34
        }
      },
      "source": [
        "a = 10 # '=' operator assigns the value 10 to variable a\n",
        "print(a)"
      ],
      "execution_count": 0,
      "outputs": [
        {
          "output_type": "stream",
          "text": [
            "10\n"
          ],
          "name": "stdout"
        }
      ]
    },
    {
      "cell_type": "code",
      "metadata": {
        "id": "aaqOxCeT2GXk",
        "colab_type": "code",
        "outputId": "13c347c7-8849-41de-a9ab-66a8ee7da55f",
        "colab": {
          "base_uri": "https://localhost:8080/",
          "height": 34
        }
      },
      "source": [
        "#compound assignment\n",
        "a += 5 #it is similar as a = a+5 and can be used with all operators\n",
        "print(a)"
      ],
      "execution_count": 0,
      "outputs": [
        {
          "output_type": "stream",
          "text": [
            "15\n"
          ],
          "name": "stdout"
        }
      ]
    },
    {
      "cell_type": "markdown",
      "metadata": {
        "id": "m9aHzjAA36sY",
        "colab_type": "text"
      },
      "source": [
        "##Comparison operators"
      ]
    },
    {
      "cell_type": "code",
      "metadata": {
        "id": "m9EC0Xfy2Gqg",
        "colab_type": "code",
        "colab": {}
      },
      "source": [
        "# '==', '!=', '>', '<', '>=', '<='  these are called comparison operators"
      ],
      "execution_count": 0,
      "outputs": []
    },
    {
      "cell_type": "code",
      "metadata": {
        "id": "BsX5IZEZ2G08",
        "colab_type": "code",
        "colab": {}
      },
      "source": [
        "x,y = 10,5 #assigning a = 5 and y = 5"
      ],
      "execution_count": 0,
      "outputs": []
    },
    {
      "cell_type": "code",
      "metadata": {
        "id": "3lQBFjE72HBz",
        "colab_type": "code",
        "outputId": "2c05a868-1871-49d0-bf17-adafb8750411",
        "colab": {
          "base_uri": "https://localhost:8080/",
          "height": 34
        }
      },
      "source": [
        "x == y #it return boolean values. if the condition is satisfied it return true otherwise false"
      ],
      "execution_count": 0,
      "outputs": [
        {
          "output_type": "execute_result",
          "data": {
            "text/plain": [
              "False"
            ]
          },
          "metadata": {
            "tags": []
          },
          "execution_count": 57
        }
      ]
    },
    {
      "cell_type": "code",
      "metadata": {
        "id": "A7ZJAYjG2HTo",
        "colab_type": "code",
        "outputId": "776dc163-7f58-48d6-d63d-32d04d3198be",
        "colab": {
          "base_uri": "https://localhost:8080/",
          "height": 34
        }
      },
      "source": [
        "x != y"
      ],
      "execution_count": 0,
      "outputs": [
        {
          "output_type": "execute_result",
          "data": {
            "text/plain": [
              "True"
            ]
          },
          "metadata": {
            "tags": []
          },
          "execution_count": 58
        }
      ]
    },
    {
      "cell_type": "code",
      "metadata": {
        "id": "vK1VFWzV6HHK",
        "colab_type": "code",
        "outputId": "3b502bcb-8671-4e84-8c54-dedfeaefa032",
        "colab": {
          "base_uri": "https://localhost:8080/",
          "height": 34
        }
      },
      "source": [
        "x > y"
      ],
      "execution_count": 0,
      "outputs": [
        {
          "output_type": "execute_result",
          "data": {
            "text/plain": [
              "True"
            ]
          },
          "metadata": {
            "tags": []
          },
          "execution_count": 59
        }
      ]
    },
    {
      "cell_type": "code",
      "metadata": {
        "id": "fKYLmeUA6Hhk",
        "colab_type": "code",
        "outputId": "53b21ce9-6913-4355-c56d-d9c8dcbd0d3b",
        "colab": {
          "base_uri": "https://localhost:8080/",
          "height": 34
        }
      },
      "source": [
        "x >= y"
      ],
      "execution_count": 0,
      "outputs": [
        {
          "output_type": "execute_result",
          "data": {
            "text/plain": [
              "True"
            ]
          },
          "metadata": {
            "tags": []
          },
          "execution_count": 60
        }
      ]
    },
    {
      "cell_type": "code",
      "metadata": {
        "id": "_o1F13c06HyI",
        "colab_type": "code",
        "outputId": "fd195a5e-fa9a-4eec-f75a-b188ab71e4fa",
        "colab": {
          "base_uri": "https://localhost:8080/",
          "height": 34
        }
      },
      "source": [
        "x < y"
      ],
      "execution_count": 0,
      "outputs": [
        {
          "output_type": "execute_result",
          "data": {
            "text/plain": [
              "False"
            ]
          },
          "metadata": {
            "tags": []
          },
          "execution_count": 61
        }
      ]
    },
    {
      "cell_type": "code",
      "metadata": {
        "id": "9jaM8stD6IEe",
        "colab_type": "code",
        "outputId": "173f1fec-3f91-4f4f-f3e6-c697e687aa62",
        "colab": {
          "base_uri": "https://localhost:8080/",
          "height": 34
        }
      },
      "source": [
        "x <= y"
      ],
      "execution_count": 0,
      "outputs": [
        {
          "output_type": "execute_result",
          "data": {
            "text/plain": [
              "False"
            ]
          },
          "metadata": {
            "tags": []
          },
          "execution_count": 62
        }
      ]
    },
    {
      "cell_type": "markdown",
      "metadata": {
        "id": "l7fF7Qe46cPk",
        "colab_type": "text"
      },
      "source": [
        "#Logical operators"
      ]
    },
    {
      "cell_type": "code",
      "metadata": {
        "id": "5Pb-odea6ITV",
        "colab_type": "code",
        "outputId": "22149b80-bc02-4dda-d390-5bfa4a25b74f",
        "colab": {
          "base_uri": "https://localhost:8080/",
          "height": 34
        }
      },
      "source": [
        "# 'and', 'or', 'the'\n",
        "x, y = 40,50\n",
        "print((x ==40 and y == 50))"
      ],
      "execution_count": 0,
      "outputs": [
        {
          "output_type": "stream",
          "text": [
            "True\n"
          ],
          "name": "stdout"
        }
      ]
    },
    {
      "cell_type": "code",
      "metadata": {
        "id": "4e5qD8wY6TYg",
        "colab_type": "code",
        "outputId": "a6c8c5ff-4b37-44b0-ee31-8f77c14294f0",
        "colab": {
          "base_uri": "https://localhost:8080/",
          "height": 34
        }
      },
      "source": [
        "print((x==20 and y ==50)) # both conditions should be true in and operator"
      ],
      "execution_count": 0,
      "outputs": [
        {
          "output_type": "stream",
          "text": [
            "False\n"
          ],
          "name": "stdout"
        }
      ]
    },
    {
      "cell_type": "code",
      "metadata": {
        "id": "YifUacfY6TsH",
        "colab_type": "code",
        "outputId": "a270a198-4316-4a3d-99f7-f67037395667",
        "colab": {
          "base_uri": "https://localhost:8080/",
          "height": 34
        }
      },
      "source": [
        "print((x==20 or y==50))  #at least 1 condition must be true"
      ],
      "execution_count": 0,
      "outputs": [
        {
          "output_type": "stream",
          "text": [
            "True\n"
          ],
          "name": "stdout"
        }
      ]
    },
    {
      "cell_type": "code",
      "metadata": {
        "id": "T-TE9oBx_KVe",
        "colab_type": "code",
        "outputId": "6e4fecc3-4a40-4538-81f1-b24b2b97d072",
        "colab": {
          "base_uri": "https://localhost:8080/",
          "height": 34
        }
      },
      "source": [
        "print(not(x==20 or y==50)) #reverse"
      ],
      "execution_count": 0,
      "outputs": [
        {
          "output_type": "stream",
          "text": [
            "False\n"
          ],
          "name": "stdout"
        }
      ]
    },
    {
      "cell_type": "markdown",
      "metadata": {
        "id": "jDlVxydJ4mB2",
        "colab_type": "text"
      },
      "source": [
        "#Input/Output and string formatting"
      ]
    },
    {
      "cell_type": "code",
      "metadata": {
        "id": "GH8oNsHo_KNv",
        "colab_type": "code",
        "outputId": "d3827866-afeb-4602-c5d9-3ca908d5f19e",
        "colab": {
          "base_uri": "https://localhost:8080/",
          "height": 34
        }
      },
      "source": [
        "name = 'john'\n",
        "marks = 90.52\n",
        "print('Name is',name,'Marks are',marks)  #formatting strings using commas"
      ],
      "execution_count": 0,
      "outputs": [
        {
          "output_type": "stream",
          "text": [
            "Name is john Marks are 90.52\n"
          ],
          "name": "stdout"
        }
      ]
    },
    {
      "cell_type": "code",
      "metadata": {
        "id": "1V9QKoZa6T9s",
        "colab_type": "code",
        "outputId": "d3672ed3-8068-4451-b84e-e3f8d94f1f82",
        "colab": {
          "base_uri": "https://localhost:8080/",
          "height": 34
        }
      },
      "source": [
        "#string formatting using %f and %s\n",
        "print('Name is %s and marks are %f'%(name,marks))"
      ],
      "execution_count": 0,
      "outputs": [
        {
          "output_type": "stream",
          "text": [
            "Name is john and marks are 90.520000\n"
          ],
          "name": "stdout"
        }
      ]
    },
    {
      "cell_type": "code",
      "metadata": {
        "id": "tEiOTh5h5OX6",
        "colab_type": "code",
        "outputId": "e94efff1-f7ad-4fd1-f7dd-866fb06c0328",
        "colab": {
          "base_uri": "https://localhost:8080/",
          "height": 34
        }
      },
      "source": [
        "#we can limit the float upto 2 decimal places by using %.2f\n",
        "print('Name is %s and marks are %.2f'%(name,marks))"
      ],
      "execution_count": 0,
      "outputs": [
        {
          "output_type": "stream",
          "text": [
            "Name is john and marks are 90.52\n"
          ],
          "name": "stdout"
        }
      ]
    },
    {
      "cell_type": "code",
      "metadata": {
        "id": "r0PFMVbe5Oud",
        "colab_type": "code",
        "outputId": "a2d67dad-8913-4ea6-acd5-bd5536d45042",
        "colab": {
          "base_uri": "https://localhost:8080/",
          "height": 34
        }
      },
      "source": [
        "#formatting using .fromat()\n",
        "print('Name is {} and marks are {}'.format(name,marks))"
      ],
      "execution_count": 0,
      "outputs": [
        {
          "output_type": "stream",
          "text": [
            "Name is john and marks are 90.52\n"
          ],
          "name": "stdout"
        }
      ]
    },
    {
      "cell_type": "code",
      "metadata": {
        "id": "iQtfRL775O_u",
        "colab_type": "code",
        "outputId": "ea27112f-156c-43ae-fbf7-b01162ce4d0f",
        "colab": {
          "base_uri": "https://localhost:8080/",
          "height": 68
        }
      },
      "source": [
        "s = input() #taking input from keyboard\n",
        "print(s)    #the type of input is always int if other class is not specified\n",
        "print(type(s))"
      ],
      "execution_count": 0,
      "outputs": [
        {
          "output_type": "stream",
          "text": [
            "1 4 5\n",
            "1 4 5\n",
            "<class 'str'>\n"
          ],
          "name": "stdout"
        }
      ]
    },
    {
      "cell_type": "code",
      "metadata": {
        "id": "PsE4Q_D76TSg",
        "colab_type": "code",
        "outputId": "b8d0b328-5dd0-4a26-d23b-f841eb318940",
        "colab": {
          "base_uri": "https://localhost:8080/",
          "height": 68
        }
      },
      "source": [
        "#lets specify the class to integer\n",
        "r = int(input(\"Enter number : \"))\n",
        "print(r)\n",
        "print(type(r))"
      ],
      "execution_count": 0,
      "outputs": [
        {
          "output_type": "stream",
          "text": [
            "Enter number : 123\n",
            "123\n",
            "<class 'int'>\n"
          ],
          "name": "stdout"
        }
      ]
    },
    {
      "cell_type": "code",
      "metadata": {
        "id": "L6TI-2J570_H",
        "colab_type": "code",
        "outputId": "a65567bb-0396-4496-c3fd-6fa13869e979",
        "colab": {
          "base_uri": "https://localhost:8080/",
          "height": 51
        }
      },
      "source": [
        "#taking multiple inputs from user\n",
        "lst = [x for x in input('Enter three numbers:').split()] #we are splitting based on whitespaces and keeping it in a list\n",
        "print(lst)"
      ],
      "execution_count": 0,
      "outputs": [
        {
          "output_type": "stream",
          "text": [
            "Enter three numbers:2 3 5\n",
            "['2', '3', '5']\n"
          ],
          "name": "stdout"
        }
      ]
    },
    {
      "cell_type": "code",
      "metadata": {
        "id": "wDgQt6fE705u",
        "colab_type": "code",
        "outputId": "b60706d1-e390-4fd8-b7cc-28e48a28a96c",
        "colab": {
          "base_uri": "https://localhost:8080/",
          "height": 51
        }
      },
      "source": [
        "#as we can see above the default class is string.\n",
        "#to covert it into integer\n",
        "lst = [int(x) for x in input('Enter three numbers:').split()] \n",
        "print(lst)"
      ],
      "execution_count": 0,
      "outputs": [
        {
          "output_type": "stream",
          "text": [
            "Enter three numbers:12 34 54\n",
            "[12, 34, 54]\n"
          ],
          "name": "stdout"
        }
      ]
    },
    {
      "cell_type": "markdown",
      "metadata": {
        "id": "r0HuDz7V-v4B",
        "colab_type": "text"
      },
      "source": [
        "##Some programs"
      ]
    },
    {
      "cell_type": "code",
      "metadata": {
        "id": "xXEEPMN2oIaE",
        "colab_type": "code",
        "outputId": "6991fd53-4136-41c7-9943-263dcad9a2c2",
        "colab": {
          "base_uri": "https://localhost:8080/",
          "height": 85
        }
      },
      "source": [
        "''' Take the student id, name and marks from user and print it'''\n",
        "s_id = int(input(\"Enter student's id : \"))\n",
        "name = input('Enter Name : ')\n",
        "marks = float(input('Enter marks : '))\n",
        "print('ID : {}, Name : {},Marks : {}'.format(s_id,name,marks))"
      ],
      "execution_count": 0,
      "outputs": [
        {
          "output_type": "stream",
          "text": [
            "Enter student's id : 234\n",
            "Enter Name : manz\n",
            "Enter marks : 99\n",
            "ID : 234, Name : manz,Marks : 99.0\n"
          ],
          "name": "stdout"
        }
      ]
    },
    {
      "cell_type": "code",
      "metadata": {
        "id": "_3Qn2oPmoIU3",
        "colab_type": "code",
        "outputId": "333e2439-82fb-4e93-e010-c9e07b9780f9",
        "colab": {
          "base_uri": "https://localhost:8080/",
          "height": 51
        }
      },
      "source": [
        "''' Average of three numbers '''\n",
        "a,b,c = [int(x) for x in input('Enter three number').split()] \n",
        "average = (a+b+c)/3\n",
        "print(average)"
      ],
      "execution_count": 0,
      "outputs": [
        {
          "output_type": "stream",
          "text": [
            "Enter three number 1 5 60\n",
            "22.0\n"
          ],
          "name": "stdout"
        }
      ]
    },
    {
      "cell_type": "code",
      "metadata": {
        "id": "YfAieKTKA_Mx",
        "colab_type": "code",
        "outputId": "faa7db15-bb72-467d-e234-a03b66fcb008",
        "colab": {
          "base_uri": "https://localhost:8080/",
          "height": 51
        }
      },
      "source": [
        "#Area of a circle\n",
        "pi = 3.14\n",
        "r = int(input('Enter radium of circle '))\n",
        "area = pi*(r**2)\n",
        "print('Area of circle is',area)"
      ],
      "execution_count": 0,
      "outputs": [
        {
          "output_type": "stream",
          "text": [
            "Enter radium of circle 5\n",
            "Area of circle is 78.5\n"
          ],
          "name": "stdout"
        }
      ]
    },
    {
      "cell_type": "markdown",
      "metadata": {
        "id": "EOGCXt53DWLk",
        "colab_type": "text"
      },
      "source": [
        "#Flow control "
      ]
    },
    {
      "cell_type": "code",
      "metadata": {
        "id": "HVyLV4WvA_D6",
        "colab_type": "code",
        "colab": {}
      },
      "source": [
        "#If else\n",
        "#in if statement if the boolean condition is true then the code is executed\n",
        "#else the code is not executed"
      ],
      "execution_count": 0,
      "outputs": []
    },
    {
      "cell_type": "code",
      "metadata": {
        "id": "o1FTeOgKEBoK",
        "colab_type": "code",
        "outputId": "81dc003d-80c2-4072-8c11-8db6e116d4f8",
        "colab": {
          "base_uri": "https://localhost:8080/",
          "height": 51
        }
      },
      "source": [
        "#WAP to find whether a number is even or odd\n",
        "a = int(input('Enter the number : '))\n",
        "if a%2 == 0:\n",
        "  print('{} Number is even'.format(a))\n",
        "else:\n",
        "  print('{} Number is odd'.format(a))"
      ],
      "execution_count": 0,
      "outputs": [
        {
          "output_type": "stream",
          "text": [
            "Enter the number : 98\n",
            "98 Number is even\n"
          ],
          "name": "stdout"
        }
      ]
    },
    {
      "cell_type": "code",
      "metadata": {
        "id": "SkxaN9ix7cnS",
        "colab_type": "code",
        "colab": {}
      },
      "source": [
        "#take input from user for maths, physics and chemistry marks of students\n",
        "#if marks is less than 35 in any subject then display students failed\n",
        "#calculate average marks if average marks is <= 59 grad c, <=69 grad c, >69 then grade A"
      ],
      "execution_count": 0,
      "outputs": []
    },
    {
      "cell_type": "code",
      "metadata": {
        "id": "E6W-BavH7c6X",
        "colab_type": "code",
        "outputId": "86dc8de8-bac1-4e8f-e0f6-9c9dfaf1ede2",
        "colab": {
          "base_uri": "https://localhost:8080/",
          "height": 51
        }
      },
      "source": [
        "maths,physics,chemistry = [int(x) for x in input('Enter the marks : ').split()]\n",
        "if maths < 35:\n",
        "  print('Fail')\n",
        "elif physics < 35:\n",
        "  print('Fail')\n",
        "elif chemistry < 35:\n",
        "  print(\"Fail\")\n",
        "else:\n",
        "  avg = (maths+physics+chemistry)/3\n",
        "  if avg <= 59:\n",
        "    print(\"Grade C\")\n",
        "  elif avg <=69 and avg >= 60:\n",
        "    print('Grade B')\n",
        "  elif avg >= 70:\n",
        "    print('Grade A')"
      ],
      "execution_count": 0,
      "outputs": [
        {
          "output_type": "stream",
          "text": [
            "Enter the marks : 55 70 80\n",
            "Grade B\n"
          ],
          "name": "stdout"
        }
      ]
    },
    {
      "cell_type": "code",
      "metadata": {
        "id": "IHuCFpof7dM_",
        "colab_type": "code",
        "outputId": "f64b38d4-d58b-40ab-f2ca-c1cba6e5cf81",
        "colab": {
          "base_uri": "https://localhost:8080/",
          "height": 357
        }
      },
      "source": [
        "#While loop\n",
        "#print number b/w 1 to 20 using while loop\n",
        "x = 1\n",
        "while (x<=20):\n",
        "  print(x)\n",
        "  x += 1"
      ],
      "execution_count": 0,
      "outputs": [
        {
          "output_type": "stream",
          "text": [
            "1\n",
            "2\n",
            "3\n",
            "4\n",
            "5\n",
            "6\n",
            "7\n",
            "8\n",
            "9\n",
            "10\n",
            "11\n",
            "12\n",
            "13\n",
            "14\n",
            "15\n",
            "16\n",
            "17\n",
            "18\n",
            "19\n",
            "20\n"
          ],
          "name": "stdout"
        }
      ]
    },
    {
      "cell_type": "code",
      "metadata": {
        "id": "WlCLn0MQKXCg",
        "colab_type": "code",
        "outputId": "5aec0c40-20b9-4bbb-aa55-16e6efb7413a",
        "colab": {
          "base_uri": "https://localhost:8080/",
          "height": 102
        }
      },
      "source": [
        "#print odd numbers between given numbers\n",
        "x = int(input('Enter the min number : '))\n",
        "y = int(input('Enter the max number : '))\n",
        "i = x\n",
        "if i % 2 == 0:\n",
        "  i += 1\n",
        "while(i<y):\n",
        "  print(i)\n",
        "  i += 2"
      ],
      "execution_count": 0,
      "outputs": [
        {
          "output_type": "stream",
          "text": [
            "Enter the min number : 0\n",
            "Enter the max number : 6\n",
            "1\n",
            "3\n",
            "5\n"
          ],
          "name": "stdout"
        }
      ]
    },
    {
      "cell_type": "code",
      "metadata": {
        "id": "jXA9pBZaKW-f",
        "colab_type": "code",
        "colab": {}
      },
      "source": [
        "#for loop\n",
        "#display number b/w 30 to 40"
      ],
      "execution_count": 0,
      "outputs": []
    },
    {
      "cell_type": "code",
      "metadata": {
        "id": "tc_edvrjKW58",
        "colab_type": "code",
        "outputId": "4a99ffd7-bd27-4898-be55-09037363aea9",
        "colab": {
          "base_uri": "https://localhost:8080/",
          "height": 187
        }
      },
      "source": [
        "for i in range(30,40): #it exludes 40 and prints till 39\n",
        "  print(i)"
      ],
      "execution_count": 0,
      "outputs": [
        {
          "output_type": "stream",
          "text": [
            "30\n",
            "31\n",
            "32\n",
            "33\n",
            "34\n",
            "35\n",
            "36\n",
            "37\n",
            "38\n",
            "39\n"
          ],
          "name": "stdout"
        }
      ]
    },
    {
      "cell_type": "code",
      "metadata": {
        "id": "MbcJ34nHKWto",
        "colab_type": "code",
        "outputId": "1b05a9fe-498a-4534-952b-59f15c092883",
        "colab": {
          "base_uri": "https://localhost:8080/",
          "height": 102
        }
      },
      "source": [
        "#print every 2nd elements b/w 30 and 40\n",
        "for i in range(30,40,2): #we using steps 2 for every 2nd element\n",
        "  print(i)"
      ],
      "execution_count": 0,
      "outputs": [
        {
          "output_type": "stream",
          "text": [
            "30\n",
            "32\n",
            "34\n",
            "36\n",
            "38\n"
          ],
          "name": "stdout"
        }
      ]
    },
    {
      "cell_type": "code",
      "metadata": {
        "id": "fI1nsd7h0yoU",
        "colab_type": "code",
        "outputId": "c57e3fb6-7fd4-48bf-a157-210168f90b9a",
        "colab": {
          "base_uri": "https://localhost:8080/",
          "height": 34
        }
      },
      "source": [
        "#product of number in a list\n",
        "lst = [1,2,3,4,5]\n",
        "product = 1\n",
        "for i in lst:\n",
        "  product *= i\n",
        "print(product)"
      ],
      "execution_count": 0,
      "outputs": [
        {
          "output_type": "stream",
          "text": [
            "120\n"
          ],
          "name": "stdout"
        }
      ]
    },
    {
      "cell_type": "code",
      "metadata": {
        "id": "hOP5YNj-0zMg",
        "colab_type": "code",
        "outputId": "6099befb-3799-4616-ad41-0c791489be78",
        "colab": {
          "base_uri": "https://localhost:8080/",
          "height": 204
        }
      },
      "source": [
        "#Multiplication table of given numbers\n",
        "x = int(input('Enter a number : '))\n",
        "for i in range(1,11):\n",
        "  print('5 * {} = '.format(i),x*i)"
      ],
      "execution_count": 0,
      "outputs": [
        {
          "output_type": "stream",
          "text": [
            "Enter a number : 2\n",
            "5 * 1 =  2\n",
            "5 * 2 =  4\n",
            "5 * 3 =  6\n",
            "5 * 4 =  8\n",
            "5 * 5 =  10\n",
            "5 * 6 =  12\n",
            "5 * 7 =  14\n",
            "5 * 8 =  16\n",
            "5 * 9 =  18\n",
            "5 * 10 =  20\n"
          ],
          "name": "stdout"
        }
      ]
    },
    {
      "cell_type": "code",
      "metadata": {
        "id": "hLLNKEO30zjI",
        "colab_type": "code",
        "outputId": "185935ed-c25d-4d82-e291-1e313cb3a2b2",
        "colab": {
          "base_uri": "https://localhost:8080/",
          "height": 68
        }
      },
      "source": [
        "#break \n",
        "#break the loop when five is found\n",
        "x = [4,3,6,5,12,43]\n",
        "for i in x:\n",
        "  if i==5:\n",
        "    break\n",
        "  print(i)"
      ],
      "execution_count": 0,
      "outputs": [
        {
          "output_type": "stream",
          "text": [
            "4\n",
            "3\n",
            "6\n"
          ],
          "name": "stdout"
        }
      ]
    },
    {
      "cell_type": "code",
      "metadata": {
        "id": "wF_tPOem0z-m",
        "colab_type": "code",
        "outputId": "c0dc2350-fc60-44be-dc10-db5de0ef2787",
        "colab": {
          "base_uri": "https://localhost:8080/",
          "height": 255
        }
      },
      "source": [
        "#print numbers b/w 1 to 20\n",
        "#skip multiples of 3\n",
        "x = 0\n",
        "while x<20:\n",
        "  x += 1\n",
        "  if x % 3 == 0:\n",
        "    continue\n",
        "  print(x)"
      ],
      "execution_count": 0,
      "outputs": [
        {
          "output_type": "stream",
          "text": [
            "1\n",
            "2\n",
            "4\n",
            "5\n",
            "7\n",
            "8\n",
            "10\n",
            "11\n",
            "13\n",
            "14\n",
            "16\n",
            "17\n",
            "19\n",
            "20\n"
          ],
          "name": "stdout"
        }
      ]
    },
    {
      "cell_type": "code",
      "metadata": {
        "id": "-qcV_M800yj9",
        "colab_type": "code",
        "colab": {}
      },
      "source": [
        "#program\n",
        "#Ask user to enter numbers\n",
        "#Display all number upto that\n",
        "#skip multiple of 10\n",
        "#stop if the number >100"
      ],
      "execution_count": 0,
      "outputs": []
    },
    {
      "cell_type": "code",
      "metadata": {
        "id": "lFRaXadY0yff",
        "colab_type": "code",
        "outputId": "7e833853-80b3-4020-b778-831519446579",
        "colab": {
          "base_uri": "https://localhost:8080/",
          "height": 1000
        }
      },
      "source": [
        "x = int(input('Enter a number : '))\n",
        "i = 0\n",
        "while i<x:\n",
        "  i += 1\n",
        "  if (i%10 == 0):\n",
        "    continue\n",
        "  elif(i>100):\n",
        "    break\n",
        "  print(i)"
      ],
      "execution_count": 0,
      "outputs": [
        {
          "output_type": "stream",
          "text": [
            "Enter a number : 105\n",
            "1\n",
            "2\n",
            "3\n",
            "4\n",
            "5\n",
            "6\n",
            "7\n",
            "8\n",
            "9\n",
            "11\n",
            "12\n",
            "13\n",
            "14\n",
            "15\n",
            "16\n",
            "17\n",
            "18\n",
            "19\n",
            "21\n",
            "22\n",
            "23\n",
            "24\n",
            "25\n",
            "26\n",
            "27\n",
            "28\n",
            "29\n",
            "31\n",
            "32\n",
            "33\n",
            "34\n",
            "35\n",
            "36\n",
            "37\n",
            "38\n",
            "39\n",
            "41\n",
            "42\n",
            "43\n",
            "44\n",
            "45\n",
            "46\n",
            "47\n",
            "48\n",
            "49\n",
            "51\n",
            "52\n",
            "53\n",
            "54\n",
            "55\n",
            "56\n",
            "57\n",
            "58\n",
            "59\n",
            "61\n",
            "62\n",
            "63\n",
            "64\n",
            "65\n",
            "66\n",
            "67\n",
            "68\n",
            "69\n",
            "71\n",
            "72\n",
            "73\n",
            "74\n",
            "75\n",
            "76\n",
            "77\n",
            "78\n",
            "79\n",
            "81\n",
            "82\n",
            "83\n",
            "84\n",
            "85\n",
            "86\n",
            "87\n",
            "88\n",
            "89\n",
            "91\n",
            "92\n",
            "93\n",
            "94\n",
            "95\n",
            "96\n",
            "97\n",
            "98\n",
            "99\n"
          ],
          "name": "stdout"
        }
      ]
    },
    {
      "cell_type": "code",
      "metadata": {
        "id": "ny1mARCt-sxD",
        "colab_type": "code",
        "outputId": "e7d52d47-d3dd-4c7b-9fc9-e157560625a8",
        "colab": {
          "base_uri": "https://localhost:8080/",
          "height": 51
        }
      },
      "source": [
        "#WAP to find out whether a given number is prime or not\n",
        "x = int(input())\n",
        "for i in range(2,x-1):\n",
        "  if (x % i == 0):\n",
        "    print('Not a Prime number')\n",
        "  else:\n",
        "    print('It is a prime number')\n",
        "  break\n",
        "    "
      ],
      "execution_count": 0,
      "outputs": [
        {
          "output_type": "stream",
          "text": [
            "13\n",
            "It is a prime number\n"
          ],
          "name": "stdout"
        }
      ]
    },
    {
      "cell_type": "code",
      "metadata": {
        "id": "b-xA4TS1-tNo",
        "colab_type": "code",
        "outputId": "a7c7e7bc-2177-4742-8884-1d0879e477e1",
        "colab": {
          "base_uri": "https://localhost:8080/",
          "height": 85
        }
      },
      "source": [
        "#command line statements\n",
        "import sys\n",
        "lst = sys.argv\n",
        "for i in lst:\n",
        "  print(i)\n",
        "print(len(lst))"
      ],
      "execution_count": 0,
      "outputs": [
        {
          "output_type": "stream",
          "text": [
            "/usr/local/lib/python3.6/dist-packages/ipykernel_launcher.py\n",
            "-f\n",
            "/root/.local/share/jupyter/runtime/kernel-031c0b96-3b96-4289-91d6-66ab420b3c7a.json\n",
            "3\n"
          ],
          "name": "stdout"
        }
      ]
    },
    {
      "cell_type": "markdown",
      "metadata": {
        "id": "jJyqGEZ850hW",
        "colab_type": "text"
      },
      "source": [
        "#Functions"
      ]
    },
    {
      "cell_type": "code",
      "metadata": {
        "id": "Y5CJEL8VDQae",
        "colab_type": "code",
        "outputId": "80abdf52-0b54-41a7-e84a-b4d514d0e333",
        "colab": {
          "base_uri": "https://localhost:8080/",
          "height": 34
        }
      },
      "source": [
        "#define a function to find average of two numbers\n",
        "def avg(a,b):\n",
        "  print((a+b)/2)\n",
        "avg(5,5)"
      ],
      "execution_count": 0,
      "outputs": [
        {
          "output_type": "stream",
          "text": [
            "5.0\n"
          ],
          "name": "stdout"
        }
      ]
    },
    {
      "cell_type": "code",
      "metadata": {
        "id": "sNxiydfw3Q0z",
        "colab_type": "code",
        "outputId": "4c7186cc-41a8-47ed-bae9-95ba25f98041",
        "colab": {
          "base_uri": "https://localhost:8080/",
          "height": 34
        }
      },
      "source": [
        "def avg(a,b):\n",
        "  return (a+b)/2  #using return keyword\n",
        "print(avg(5,6))"
      ],
      "execution_count": 0,
      "outputs": [
        {
          "output_type": "stream",
          "text": [
            "5.5\n"
          ],
          "name": "stdout"
        }
      ]
    },
    {
      "cell_type": "code",
      "metadata": {
        "id": "ZVbcVjXLDY55",
        "colab_type": "code",
        "outputId": "85406356-28b7-4861-bb89-4b39c12d5db7",
        "colab": {
          "base_uri": "https://localhost:8080/",
          "height": 85
        }
      },
      "source": [
        "def calc(a,b):\n",
        "  x = a+b\n",
        "  y = a-b\n",
        "  z= a*b\n",
        "  u = a/b\n",
        "  return x,y,z,u   #returns multiple values\n",
        "result = calc(10,5)\n",
        "for i in result:\n",
        "  print(i)"
      ],
      "execution_count": 0,
      "outputs": [
        {
          "output_type": "stream",
          "text": [
            "15\n",
            "5\n",
            "50\n",
            "2.0\n"
          ],
          "name": "stdout"
        }
      ]
    },
    {
      "cell_type": "code",
      "metadata": {
        "id": "7h4GabzmDZWY",
        "colab_type": "code",
        "outputId": "fd82288e-47a3-4fa8-d440-ae33e98acfdc",
        "colab": {
          "base_uri": "https://localhost:8080/",
          "height": 51
        }
      },
      "source": [
        "#global and local variables\n",
        "x = 234 #global variable can be assesed anywhere in program\n",
        "def display():\n",
        "  y = 675      #local vaiable cannot be assesed outside function body\n",
        "  return y\n",
        "print(display())\n",
        "print(x)"
      ],
      "execution_count": 0,
      "outputs": [
        {
          "output_type": "stream",
          "text": [
            "675\n",
            "234\n"
          ],
          "name": "stdout"
        }
      ]
    },
    {
      "cell_type": "code",
      "metadata": {
        "id": "0BNmmipzDYt9",
        "colab_type": "code",
        "outputId": "86e8e92a-f729-4bf8-9fb7-e6041929f597",
        "colab": {
          "base_uri": "https://localhost:8080/",
          "height": 51
        }
      },
      "source": [
        "#global and local variables\n",
        "x = 234 #global variable can be assesed anywhere in program\n",
        "def display():\n",
        "  x = 675      #local vaiable cannot be assesed outside function body\n",
        "  return x\n",
        "#here we have used x and assigned different value inside function\n",
        "print(display())\n",
        "print(x)"
      ],
      "execution_count": 0,
      "outputs": [
        {
          "output_type": "stream",
          "text": [
            "675\n",
            "234\n"
          ],
          "name": "stdout"
        }
      ]
    },
    {
      "cell_type": "code",
      "metadata": {
        "id": "ahSFLkqb6LS1",
        "colab_type": "code",
        "outputId": "89064c02-d22e-426e-ca85-78439d16e542",
        "colab": {
          "base_uri": "https://localhost:8080/",
          "height": 68
        }
      },
      "source": [
        "#Accessing global variable with the same name\n",
        "x = 234 #global variable can be assesed anywhere in program\n",
        "def display():\n",
        "  x = 675      \n",
        "  print(x)\n",
        "  print(globals()['x'])\n",
        "  return x\n",
        "print(display())\n"
      ],
      "execution_count": 0,
      "outputs": [
        {
          "output_type": "stream",
          "text": [
            "675\n",
            "234\n",
            "675\n"
          ],
          "name": "stdout"
        }
      ]
    },
    {
      "cell_type": "code",
      "metadata": {
        "id": "6eYvXzEG6Lv1",
        "colab_type": "code",
        "outputId": "c3981e02-9be3-43fd-a978-cdc20e0a9047",
        "colab": {
          "base_uri": "https://localhost:8080/",
          "height": 34
        }
      },
      "source": [
        "#write a function inside a function\n",
        "def display(name):\n",
        "  def message():\n",
        "    return 'Hello'\n",
        "  result = message() + \" \" + name\n",
        "  return result\n",
        "display('Aman')"
      ],
      "execution_count": 0,
      "outputs": [
        {
          "output_type": "execute_result",
          "data": {
            "text/plain": [
              "'Hello Aman'"
            ]
          },
          "metadata": {
            "tags": []
          },
          "execution_count": 22
        }
      ]
    },
    {
      "cell_type": "code",
      "metadata": {
        "id": "gJ7TVrRY3RYQ",
        "colab_type": "code",
        "outputId": "facffb39-3590-461a-e58d-a9e789c226db",
        "colab": {
          "base_uri": "https://localhost:8080/",
          "height": 34
        }
      },
      "source": [
        "#passing function as parameter\n",
        "def display(fun):\n",
        "  return 'Hello '+fun  #function 1\n",
        "\n",
        "def name():\n",
        "  return 'Manvendra'  #function 2\n",
        "#passing name function as parameter in display function\n",
        "print(display(name()))"
      ],
      "execution_count": 0,
      "outputs": [
        {
          "output_type": "stream",
          "text": [
            "Hello Manvendra\n"
          ],
          "name": "stdout"
        }
      ]
    },
    {
      "cell_type": "code",
      "metadata": {
        "id": "cqmygMau3Rwr",
        "colab_type": "code",
        "outputId": "6f4ccf84-5344-497f-b939-3e1231cb2e2e",
        "colab": {
          "base_uri": "https://localhost:8080/",
          "height": 34
        }
      },
      "source": [
        "#recursion \n",
        "def factorial(n):\n",
        "  if n== 0:\n",
        "    result = 1\n",
        "  else:\n",
        "    result = n * factorial(n-1)\n",
        "  return result\n",
        "factorial(5)"
      ],
      "execution_count": 0,
      "outputs": [
        {
          "output_type": "execute_result",
          "data": {
            "text/plain": [
              "120"
            ]
          },
          "metadata": {
            "tags": []
          },
          "execution_count": 2
        }
      ]
    },
    {
      "cell_type": "markdown",
      "metadata": {
        "id": "M-IqltYUFXvL",
        "colab_type": "text"
      },
      "source": [
        "#Lambda Function"
      ]
    },
    {
      "cell_type": "code",
      "metadata": {
        "id": "mUEwPw46-zeH",
        "colab_type": "code",
        "outputId": "b91ff589-cf81-43b7-a1e3-685aaeb7651e",
        "colab": {
          "base_uri": "https://localhost:8080/",
          "height": 34
        }
      },
      "source": [
        "f = lambda x: x**3 #cube of a number\n",
        "print(f(2))"
      ],
      "execution_count": 0,
      "outputs": [
        {
          "output_type": "stream",
          "text": [
            "8\n"
          ],
          "name": "stdout"
        }
      ]
    },
    {
      "cell_type": "code",
      "metadata": {
        "id": "-A-y0TVAFbDy",
        "colab_type": "code",
        "outputId": "9d2e169f-69ef-476b-afcc-8721dc3ffe53",
        "colab": {
          "base_uri": "https://localhost:8080/",
          "height": 34
        }
      },
      "source": [
        "#even or odd\n",
        "n = lambda x: \"yes\" if x%2==0 else \"no\"\n",
        "print(n(6))"
      ],
      "execution_count": 0,
      "outputs": [
        {
          "output_type": "stream",
          "text": [
            "yes\n"
          ],
          "name": "stdout"
        }
      ]
    },
    {
      "cell_type": "code",
      "metadata": {
        "id": "Mwul0Rh9FbTv",
        "colab_type": "code",
        "outputId": "a93424a3-2b9b-49cd-b392-0d6be4c83c51",
        "colab": {
          "base_uri": "https://localhost:8080/",
          "height": 34
        }
      },
      "source": [
        "add = lambda a,b: a+b #addition of two numbers\n",
        "print(add(5,5))"
      ],
      "execution_count": 0,
      "outputs": [
        {
          "output_type": "stream",
          "text": [
            "10\n"
          ],
          "name": "stdout"
        }
      ]
    },
    {
      "cell_type": "code",
      "metadata": {
        "id": "Tyysr_YXFblw",
        "colab_type": "code",
        "outputId": "6a7de421-6e47-462a-fb7d-a862c7681b2f",
        "colab": {
          "base_uri": "https://localhost:8080/",
          "height": 34
        }
      },
      "source": [
        "#using filter\n",
        "#reterive even numbers from a given number\n",
        "lst = [10,5,78,23,98]\n",
        "xy = list(filter(lambda x: x%2==0,lst))\n",
        "print(xy)"
      ],
      "execution_count": 0,
      "outputs": [
        {
          "output_type": "stream",
          "text": [
            "[10, 78, 98]\n"
          ],
          "name": "stdout"
        }
      ]
    },
    {
      "cell_type": "code",
      "metadata": {
        "id": "W2hhUQmZI7FQ",
        "colab_type": "code",
        "outputId": "cfdda231-c54c-4485-8492-1d4064de4d43",
        "colab": {
          "base_uri": "https://localhost:8080/",
          "height": 34
        }
      },
      "source": [
        "#using map function\n",
        "#double each number in the list\n",
        "lst = [2,3,4,5]\n",
        "result = list(map(lambda x: x*2,lst))\n",
        "print(result)"
      ],
      "execution_count": 0,
      "outputs": [
        {
          "output_type": "stream",
          "text": [
            "[4, 6, 8, 10]\n"
          ],
          "name": "stdout"
        }
      ]
    },
    {
      "cell_type": "code",
      "metadata": {
        "id": "eleSsK4PI7mZ",
        "colab_type": "code",
        "outputId": "c5a7866a-c5c9-4a4d-9a20-eb763a382fa1",
        "colab": {
          "base_uri": "https://localhost:8080/",
          "height": 34
        }
      },
      "source": [
        "#reduce function\n",
        "#calculate sum of all elements in list\n",
        "lst = [5,10,15,20]\n",
        "from functools import reduce\n",
        "result =reduce(lambda x,y: x+y,lst)\n",
        "print(result)"
      ],
      "execution_count": 0,
      "outputs": [
        {
          "output_type": "stream",
          "text": [
            "50\n"
          ],
          "name": "stdout"
        }
      ]
    },
    {
      "cell_type": "markdown",
      "metadata": {
        "id": "iuJVyi7nK2I4",
        "colab_type": "text"
      },
      "source": [
        "#Decorators\n",
        "It adds special meaning to existing function"
      ]
    },
    {
      "cell_type": "code",
      "metadata": {
        "id": "6MJfH5txKyvQ",
        "colab_type": "code",
        "outputId": "a0da5df8-cd20-49e3-a3ed-face5b5085e1",
        "colab": {
          "base_uri": "https://localhost:8080/",
          "height": 34
        }
      },
      "source": [
        "def decor(fun):\n",
        "  def inner():\n",
        "    result = fun()\n",
        "    return result*2\n",
        "  return inner\n",
        "def num():\n",
        "  return 5\n",
        "resultfun = decor(num)\n",
        "print(resultfun())"
      ],
      "execution_count": 0,
      "outputs": [
        {
          "output_type": "stream",
          "text": [
            "10\n"
          ],
          "name": "stdout"
        }
      ]
    },
    {
      "cell_type": "code",
      "metadata": {
        "id": "gNzGUFGdKzMb",
        "colab_type": "code",
        "outputId": "98c28884-a55e-4760-a5bc-29ec6f8ac6b1",
        "colab": {
          "base_uri": "https://localhost:8080/",
          "height": 34
        }
      },
      "source": [
        "#using @decor\n",
        "def decor(fun):\n",
        "  def inner():\n",
        "    result = fun()\n",
        "    return result*2\n",
        "  return inner\n",
        "\n",
        "@decor\n",
        "def num():\n",
        "  return 5\n",
        "print(num())"
      ],
      "execution_count": 0,
      "outputs": [
        {
          "output_type": "stream",
          "text": [
            "10\n"
          ],
          "name": "stdout"
        }
      ]
    },
    {
      "cell_type": "markdown",
      "metadata": {
        "id": "ZivkhlNcP5Va",
        "colab_type": "text"
      },
      "source": [
        "#Generators\n",
        "It return sequence of values back"
      ]
    },
    {
      "cell_type": "code",
      "metadata": {
        "id": "TZ73XLpTKz1C",
        "colab_type": "code",
        "outputId": "680c275f-d58f-48ba-84e9-888300a1ee79",
        "colab": {
          "base_uri": "https://localhost:8080/",
          "height": 187
        }
      },
      "source": [
        "def customgen(x,y):\n",
        "  while x < y:\n",
        "    yield x\n",
        "    x += 1\n",
        "result = customgen(20,30)\n",
        "for i in result:\n",
        "  print(i)"
      ],
      "execution_count": 0,
      "outputs": [
        {
          "output_type": "stream",
          "text": [
            "20\n",
            "21\n",
            "22\n",
            "23\n",
            "24\n",
            "25\n",
            "26\n",
            "27\n",
            "28\n",
            "29\n"
          ],
          "name": "stdout"
        }
      ]
    },
    {
      "cell_type": "markdown",
      "metadata": {
        "id": "8mRRjdiIRI4R",
        "colab_type": "text"
      },
      "source": [
        "#List comprehension"
      ]
    },
    {
      "cell_type": "code",
      "metadata": {
        "id": "lYdPP1uPK0QL",
        "colab_type": "code",
        "outputId": "56962fe5-4b62-44b3-baa9-4bc3026e0699",
        "colab": {
          "base_uri": "https://localhost:8080/",
          "height": 34
        }
      },
      "source": [
        "#find cube of all number b/w 1 to 10\n",
        "lst = [x**3 for x in range(1,11)]\n",
        "print(lst)"
      ],
      "execution_count": 0,
      "outputs": [
        {
          "output_type": "stream",
          "text": [
            "[1, 8, 27, 64, 125, 216, 343, 512, 729, 1000]\n"
          ],
          "name": "stdout"
        }
      ]
    },
    {
      "cell_type": "code",
      "metadata": {
        "id": "P054SPKhKzHk",
        "colab_type": "code",
        "outputId": "0a09d5d6-6392-4bbc-cb34-25c7fd5ed4d4",
        "colab": {
          "base_uri": "https://localhost:8080/",
          "height": 34
        }
      },
      "source": [
        "lst = [x for x in range(1,21) if x%2==0]\n",
        "print(lst)"
      ],
      "execution_count": 0,
      "outputs": [
        {
          "output_type": "stream",
          "text": [
            "[2, 4, 6, 8, 10, 12, 14, 16, 18, 20]\n"
          ],
          "name": "stdout"
        }
      ]
    },
    {
      "cell_type": "code",
      "metadata": {
        "id": "bqqYRg9pI8If",
        "colab_type": "code",
        "outputId": "3467f40e-8c17-4274-9bf2-8e8e0b539140",
        "colab": {
          "base_uri": "https://localhost:8080/",
          "height": 34
        }
      },
      "source": [
        "#product of elements in 2 different list\n",
        "a = [1,2,3,4]\n",
        "b=[5,6,7,8]\n",
        "z = [a[i]*b[i] for i in range(len(a))]\n",
        "print(z)"
      ],
      "execution_count": 0,
      "outputs": [
        {
          "output_type": "stream",
          "text": [
            "[5, 12, 21, 32]\n"
          ],
          "name": "stdout"
        }
      ]
    },
    {
      "cell_type": "code",
      "metadata": {
        "id": "2EeeI5HsI8ED",
        "colab_type": "code",
        "outputId": "9dd76b5c-a979-467c-d08e-bf1eee75d839",
        "colab": {
          "base_uri": "https://localhost:8080/",
          "height": 34
        }
      },
      "source": [
        "#common elements of 2 given lists\n",
        "a = [1,2,3,4]\n",
        "b = [1,4,5,6]\n",
        "z = [i for i in a if i in b]\n",
        "print(z)"
      ],
      "execution_count": 0,
      "outputs": [
        {
          "output_type": "stream",
          "text": [
            "[1, 4]\n"
          ],
          "name": "stdout"
        }
      ]
    },
    {
      "cell_type": "markdown",
      "metadata": {
        "id": "CTQiTKK3Icrw",
        "colab_type": "text"
      },
      "source": [
        "#Reading and writing files"
      ]
    },
    {
      "cell_type": "code",
      "metadata": {
        "id": "UtLNFg88WHXG",
        "colab_type": "code",
        "colab": {
          "base_uri": "https://localhost:8080/",
          "height": 34
        },
        "outputId": "e2720e64-c7e8-415d-a29a-b1afe8240a61"
      },
      "source": [
        "f = open('myfile.txt','w')  #opening file in write mode\n",
        "s = input('Enter text:')    #taking input\n",
        "f.write(s)                  #writing input in file\n",
        "f.close()                   #closing the file"
      ],
      "execution_count": 2,
      "outputs": [
        {
          "output_type": "stream",
          "text": [
            "Enter text:hey\n"
          ],
          "name": "stdout"
        }
      ]
    },
    {
      "cell_type": "code",
      "metadata": {
        "id": "9x7eTGJjWH2s",
        "colab_type": "code",
        "colab": {
          "base_uri": "https://localhost:8080/",
          "height": 34
        },
        "outputId": "43709255-112f-416e-808e-eb3f767c7660"
      },
      "source": [
        "#read from a file\n",
        "f = open('myfile.txt','r')  #opening file in read mode\n",
        "s = f.read()\n",
        "print(s)"
      ],
      "execution_count": 3,
      "outputs": [
        {
          "output_type": "stream",
          "text": [
            "hey\n"
          ],
          "name": "stdout"
        }
      ]
    },
    {
      "cell_type": "code",
      "metadata": {
        "id": "wRfj8fl-WHxq",
        "colab_type": "code",
        "colab": {
          "base_uri": "https://localhost:8080/",
          "height": 102
        },
        "outputId": "db6380e8-8122-4010-bdf0-bb9640b3af0d"
      },
      "source": [
        "#writing multiple strings\n",
        "f = open('myfile.txt','w')  #opening file in write mode\n",
        "print('Enter text(type # when you are done)')\n",
        "s = ' '\n",
        "while s != '#':  \n",
        "  s = input()\n",
        "  f.write(s)                  #writing input in file\n",
        "f.close()                   #closing the file"
      ],
      "execution_count": 5,
      "outputs": [
        {
          "output_type": "stream",
          "text": [
            "Enter text(type # when you are done)\n",
            "shoot for the moon\n",
            "even if you fall\n",
            "you will land among the stars\n",
            "#\n"
          ],
          "name": "stdout"
        }
      ]
    },
    {
      "cell_type": "code",
      "metadata": {
        "id": "1SsBKm6zWHtL",
        "colab_type": "code",
        "colab": {
          "base_uri": "https://localhost:8080/",
          "height": 34
        },
        "outputId": "82c53c82-d7bd-4679-da26-28be3b242bf0"
      },
      "source": [
        "#check if file exists\n",
        "import os,sys\n",
        "if os.path.isfile('myfile.txt'):\n",
        "  f = open('myfile.txt','r')  #opening file in read mode\n",
        "  s = f.read()\n",
        "  print(s)\n",
        "  f.close()\n",
        "else:\n",
        "  print(\"file doesn't exists\")\n",
        "  sys.exit()"
      ],
      "execution_count": 12,
      "outputs": [
        {
          "output_type": "stream",
          "text": [
            "shoot for the mooneven if you fallyou will land among the stars#\n"
          ],
          "name": "stdout"
        }
      ]
    },
    {
      "cell_type": "markdown",
      "metadata": {
        "id": "1ao07NKYPKv-",
        "colab_type": "text"
      },
      "source": [
        "#Regex"
      ]
    },
    {
      "cell_type": "code",
      "metadata": {
        "id": "0CRij0m1WHoB",
        "colab_type": "code",
        "colab": {}
      },
      "source": [
        "#sequence characters\n",
        "#\\d matches digits \\D does the opposite\n",
        "#\\s matches white space \\S does the opposite\n",
        "#\\w for any alpha numeric values \\W matches opposite\n",
        "#\\b matches space around the words\n",
        "#\\A matches only start of the string\n",
        "#\\Z matches only at the end of string"
      ],
      "execution_count": 0,
      "outputs": []
    },
    {
      "cell_type": "code",
      "metadata": {
        "id": "PKZ-PvLKWHRp",
        "colab_type": "code",
        "colab": {
          "base_uri": "https://localhost:8080/",
          "height": 34
        },
        "outputId": "0f2d55ff-1a33-43d0-bbda-9634be99136a"
      },
      "source": [
        "#Search\n",
        "import re\n",
        "ch ='Take up one idea.One idea at a time'\n",
        "result=re.search(r'o\\w\\w',ch)               #it gives us the first substring that matches the pattern\n",
        "print(result.group())"
      ],
      "execution_count": 14,
      "outputs": [
        {
          "output_type": "stream",
          "text": [
            "one\n"
          ],
          "name": "stdout"
        }
      ]
    },
    {
      "cell_type": "code",
      "metadata": {
        "id": "Y-gn7P4WWHMB",
        "colab_type": "code",
        "colab": {
          "base_uri": "https://localhost:8080/",
          "height": 34
        },
        "outputId": "f5d9a6de-f91a-4a72-a37c-b068e897eda0"
      },
      "source": [
        "#findall\n",
        "  #it gives back all the subtring that matches the given pattern in a string\n",
        "import re\n",
        "ch ='Take up one idea.one idea at a time'\n",
        "result=re.findall(r'o\\w\\w',ch)               \n",
        "print(result)\n"
      ],
      "execution_count": 15,
      "outputs": [
        {
          "output_type": "stream",
          "text": [
            "['one', 'one']\n"
          ],
          "name": "stdout"
        }
      ]
    },
    {
      "cell_type": "code",
      "metadata": {
        "id": "rbSp7O3WWHAG",
        "colab_type": "code",
        "colab": {
          "base_uri": "https://localhost:8080/",
          "height": 34
        },
        "outputId": "819b1f8d-c744-41ac-ea06-28b9649951e7"
      },
      "source": [
        "#match\n",
        "  #it search for pattern right at the begining of the string\n",
        "import re\n",
        "ch ='Take up one idea.one idea at a time'\n",
        "result=re.match(r'o\\w\\w',ch)               \n",
        "print(result)\n"
      ],
      "execution_count": 16,
      "outputs": [
        {
          "output_type": "stream",
          "text": [
            "None\n"
          ],
          "name": "stdout"
        }
      ]
    },
    {
      "cell_type": "code",
      "metadata": {
        "id": "bfDyPnAjI7-f",
        "colab_type": "code",
        "colab": {
          "base_uri": "https://localhost:8080/",
          "height": 34
        },
        "outputId": "200c8d0a-4623-4b88-d229-8628da3d76c2"
      },
      "source": [
        "import re\n",
        "ch ='Take up one idea.one idea at a time'\n",
        "result=re.match(r'T\\w\\w',ch)              #It only looks for the pattern at the beginning of the string.     \n",
        "print(result.group())"
      ],
      "execution_count": 17,
      "outputs": [
        {
          "output_type": "stream",
          "text": [
            "Tak\n"
          ],
          "name": "stdout"
        }
      ]
    },
    {
      "cell_type": "code",
      "metadata": {
        "id": "HqBNEFE0I7gW",
        "colab_type": "code",
        "colab": {
          "base_uri": "https://localhost:8080/",
          "height": 34
        },
        "outputId": "c95ac75e-1207-4f83-ff2d-5f87d40acdbb"
      },
      "source": [
        "#split\n",
        "ch ='Take 1 up one 12 idea.one idea 45 at a time'\n",
        "result = re.split(r'\\d+',ch)\n",
        "print(result)"
      ],
      "execution_count": 18,
      "outputs": [
        {
          "output_type": "stream",
          "text": [
            "['Take ', ' up one ', ' idea.one idea ', ' at a time']\n"
          ],
          "name": "stdout"
        }
      ]
    },
    {
      "cell_type": "code",
      "metadata": {
        "id": "rStLOosPI66x",
        "colab_type": "code",
        "colab": {
          "base_uri": "https://localhost:8080/",
          "height": 34
        },
        "outputId": "0f5031df-d7f4-44eb-9e7d-a3cf202b12a6"
      },
      "source": [
        "#subsitute\n",
        "ch ='Take up one idea.one idea at a time'\n",
        "result = re.sub(r'one','two',ch)\n",
        "print(result)"
      ],
      "execution_count": 20,
      "outputs": [
        {
          "output_type": "stream",
          "text": [
            "Take up two idea.two idea at a time\n"
          ],
          "name": "stdout"
        }
      ]
    },
    {
      "cell_type": "code",
      "metadata": {
        "id": "KlZVjlofFb1b",
        "colab_type": "code",
        "colab": {}
      },
      "source": [
        "#quantifiers\n",
        "# + for 1 or more \n",
        "# * 0 or more\n",
        "# ? 0 zero or 1\n",
        "# {m} exactly m occurences \n",
        "# {m,n} m in minum occurences and n is maximum occurences"
      ],
      "execution_count": 0,
      "outputs": []
    },
    {
      "cell_type": "code",
      "metadata": {
        "id": "9SGC0S8CFcGN",
        "colab_type": "code",
        "colab": {
          "base_uri": "https://localhost:8080/",
          "height": 34
        },
        "outputId": "750754fa-ddb9-4d9a-a08b-fb2aa2ac74d3"
      },
      "source": [
        "ch ='Take up one idea.one idea at a time'\n",
        "result = re.findall(r'o\\w+',ch)\n",
        "print(result)"
      ],
      "execution_count": 22,
      "outputs": [
        {
          "output_type": "stream",
          "text": [
            "['one', 'one']\n"
          ],
          "name": "stdout"
        }
      ]
    },
    {
      "cell_type": "code",
      "metadata": {
        "id": "zUBa0cRn-0IJ",
        "colab_type": "code",
        "colab": {
          "base_uri": "https://localhost:8080/",
          "height": 34
        },
        "outputId": "182ead58-b29c-44d8-bc74-25290f7d5e86"
      },
      "source": [
        "ch ='Take up one idea.one idea at a time'\n",
        "result = re.findall(r'o\\w*',ch)\n",
        "print(result)"
      ],
      "execution_count": 23,
      "outputs": [
        {
          "output_type": "stream",
          "text": [
            "['one', 'one']\n"
          ],
          "name": "stdout"
        }
      ]
    },
    {
      "cell_type": "code",
      "metadata": {
        "id": "SpAoeH7s-0XS",
        "colab_type": "code",
        "colab": {
          "base_uri": "https://localhost:8080/",
          "height": 34
        },
        "outputId": "d29fde69-3ded-456d-bcad-80b91d0d02e7"
      },
      "source": [
        "ch ='Take up one idea.one idea at a time'\n",
        "result = re.findall(r'o\\w?',ch)\n",
        "print(result)"
      ],
      "execution_count": 24,
      "outputs": [
        {
          "output_type": "stream",
          "text": [
            "['on', 'on']\n"
          ],
          "name": "stdout"
        }
      ]
    },
    {
      "cell_type": "code",
      "metadata": {
        "id": "6WXNb6-6-zUN",
        "colab_type": "code",
        "colab": {
          "base_uri": "https://localhost:8080/",
          "height": 34
        },
        "outputId": "2d71249a-46f9-44ac-9fa8-0add82952c2a"
      },
      "source": [
        "ch ='Take up one idea.one idea at a time'\n",
        "result = re.findall(r'o\\w{1}',ch)\n",
        "print(result)"
      ],
      "execution_count": 25,
      "outputs": [
        {
          "output_type": "stream",
          "text": [
            "['on', 'on']\n"
          ],
          "name": "stdout"
        }
      ]
    },
    {
      "cell_type": "code",
      "metadata": {
        "id": "dj5HwQMXDQtR",
        "colab_type": "code",
        "colab": {
          "base_uri": "https://localhost:8080/",
          "height": 34
        },
        "outputId": "7c81daa4-850b-4b17-aa50-2b11ab34321e"
      },
      "source": [
        "ch ='Take up one idea.one idea at a time'\n",
        "result = re.findall(r'o\\w{2}',ch)\n",
        "print(result)"
      ],
      "execution_count": 26,
      "outputs": [
        {
          "output_type": "stream",
          "text": [
            "['one', 'one']\n"
          ],
          "name": "stdout"
        }
      ]
    },
    {
      "cell_type": "code",
      "metadata": {
        "id": "aQU6b4SMDQ-t",
        "colab_type": "code",
        "colab": {
          "base_uri": "https://localhost:8080/",
          "height": 34
        },
        "outputId": "93fe199d-ce12-4461-d49b-05805df41665"
      },
      "source": [
        "ch ='Take up one idea.one idea at a time'\n",
        "result = re.findall(r'o\\w{1,2}',ch)\n",
        "print(result)"
      ],
      "execution_count": 27,
      "outputs": [
        {
          "output_type": "stream",
          "text": [
            "['one', 'one']\n"
          ],
          "name": "stdout"
        }
      ]
    },
    {
      "cell_type": "code",
      "metadata": {
        "id": "DqsAgnT_-tjs",
        "colab_type": "code",
        "colab": {
          "base_uri": "https://localhost:8080/",
          "height": 34
        },
        "outputId": "d5a6c220-c6a0-49a6-d8b2-58d52dde7c77"
      },
      "source": [
        "#matching dates\n",
        "ch ='Take 02-01-2020 up one idea.one idea at a time 02-03-2020'\n",
        "result = re.findall(r'\\d{1,2}-\\d{1,2}-\\d{1,4}',ch)\n",
        "print(result)"
      ],
      "execution_count": 28,
      "outputs": [
        {
          "output_type": "stream",
          "text": [
            "['02-01-2020', '02-03-2020']\n"
          ],
          "name": "stdout"
        }
      ]
    },
    {
      "cell_type": "code",
      "metadata": {
        "id": "pa07oywb0yT-",
        "colab_type": "code",
        "colab": {}
      },
      "source": [
        "#special characters\n",
        "# \\ escape characters\n",
        "# . matches any character except a newline\n",
        "# ^ matches at the beginning f the string\n",
        "# $ matches at the end of the string\n",
        "# [...] we can specify range of values\n",
        "# [^...] matches every character except the one in brackets\n",
        "# (..) we can specify any regular expression within it\n",
        "# (R|S) we can specify multiple regular expressions"
      ],
      "execution_count": 0,
      "outputs": []
    },
    {
      "cell_type": "code",
      "metadata": {
        "id": "ewRJIU6nZfBZ",
        "colab_type": "code",
        "colab": {
          "base_uri": "https://localhost:8080/",
          "height": 34
        },
        "outputId": "95a09a84-5a58-4628-f2d3-c8700067a917"
      },
      "source": [
        "# ^ matches pattern at beginning of string\n",
        "ch ='Take up one idea.one idea at a time'\n",
        "result = re.search(r'^o\\w',ch)\n",
        "print(result)"
      ],
      "execution_count": 31,
      "outputs": [
        {
          "output_type": "stream",
          "text": [
            "None\n"
          ],
          "name": "stdout"
        }
      ]
    },
    {
      "cell_type": "code",
      "metadata": {
        "id": "jiITibChZfdk",
        "colab_type": "code",
        "colab": {}
      },
      "source": [
        "#This notebook is based on the tutorials of Python core and advanced by Mr. Bharath Thippireddy on udemy\n",
        "# link :- https://www.udemy.com/course/python-core-and-advanced/"
      ],
      "execution_count": 0,
      "outputs": []
    },
    {
      "cell_type": "code",
      "metadata": {
        "id": "d3jV3hebZgBE",
        "colab_type": "code",
        "colab": {}
      },
      "source": [
        ""
      ],
      "execution_count": 0,
      "outputs": []
    }
  ]
}
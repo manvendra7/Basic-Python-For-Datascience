{
  "nbformat": 4,
  "nbformat_minor": 0,
  "metadata": {
    "colab": {
      "name": "numpy.ipynb",
      "provenance": [],
      "collapsed_sections": []
    },
    "kernelspec": {
      "name": "python3",
      "display_name": "Python 3"
    }
  },
  "cells": [
    {
      "cell_type": "markdown",
      "metadata": {
        "id": "xqI4wtDj8drs",
        "colab_type": "text"
      },
      "source": [
        "#Python Numpy Array"
      ]
    },
    {
      "cell_type": "code",
      "metadata": {
        "id": "GN9NRZIb1MfW",
        "colab_type": "code",
        "colab": {}
      },
      "source": [
        "#import numpy package\n",
        "import numpy as np\n"
      ],
      "execution_count": 0,
      "outputs": []
    },
    {
      "cell_type": "code",
      "metadata": {
        "id": "scgWjP6i12PK",
        "colab_type": "code",
        "outputId": "008150f5-43e8-4e6a-a768-855a0f90445a",
        "colab": {
          "base_uri": "https://localhost:8080/",
          "height": 34
        }
      },
      "source": [
        "#creating arrays from python lists\n",
        "np.array([1,2,3,5,6])"
      ],
      "execution_count": 0,
      "outputs": [
        {
          "output_type": "execute_result",
          "data": {
            "text/plain": [
              "array([1, 2, 3, 5, 6])"
            ]
          },
          "metadata": {
            "tags": []
          },
          "execution_count": 2
        }
      ]
    },
    {
      "cell_type": "code",
      "metadata": {
        "id": "ZE8LPEq212Mr",
        "colab_type": "code",
        "outputId": "f42bc039-7a7b-469a-bb2f-a88bade33adc",
        "colab": {
          "base_uri": "https://localhost:8080/",
          "height": 68
        }
      },
      "source": [
        "#nested list results in multi dimensional array\n",
        "np.array([range(i, i+3) for i in [2,4,6]])"
      ],
      "execution_count": 0,
      "outputs": [
        {
          "output_type": "execute_result",
          "data": {
            "text/plain": [
              "array([[2, 3, 4],\n",
              "       [4, 5, 6],\n",
              "       [6, 7, 8]])"
            ]
          },
          "metadata": {
            "tags": []
          },
          "execution_count": 3
        }
      ]
    },
    {
      "cell_type": "code",
      "metadata": {
        "id": "B9YdoCG612Kt",
        "colab_type": "code",
        "outputId": "d530e49e-7813-42e9-eb39-0170e2db39e0",
        "colab": {
          "base_uri": "https://localhost:8080/",
          "height": 34
        }
      },
      "source": [
        "#Creating array from scratch\n",
        "#create a length 10 integer array filled with zeroes\n",
        "np.zeros(10,dtype=int)"
      ],
      "execution_count": 0,
      "outputs": [
        {
          "output_type": "execute_result",
          "data": {
            "text/plain": [
              "array([0, 0, 0, 0, 0, 0, 0, 0, 0, 0])"
            ]
          },
          "metadata": {
            "tags": []
          },
          "execution_count": 4
        }
      ]
    },
    {
      "cell_type": "code",
      "metadata": {
        "id": "_bHDMK-K12Ie",
        "colab_type": "code",
        "outputId": "dfcc025e-d65d-4039-a7c8-496ee52c3ade",
        "colab": {
          "base_uri": "https://localhost:8080/",
          "height": 68
        }
      },
      "source": [
        "#create a 3*2 array filled with 1s\n",
        "np.ones((3,2),dtype=float)"
      ],
      "execution_count": 0,
      "outputs": [
        {
          "output_type": "execute_result",
          "data": {
            "text/plain": [
              "array([[1., 1.],\n",
              "       [1., 1.],\n",
              "       [1., 1.]])"
            ]
          },
          "metadata": {
            "tags": []
          },
          "execution_count": 5
        }
      ]
    },
    {
      "cell_type": "code",
      "metadata": {
        "id": "q-KJBjIf12GQ",
        "colab_type": "code",
        "outputId": "7ebfadb6-2ed0-42de-b59e-c4810664bb0c",
        "colab": {
          "base_uri": "https://localhost:8080/",
          "height": 68
        }
      },
      "source": [
        "#create a 3*5 array filled with 3.14\n",
        "np.full((3,5),3.14)"
      ],
      "execution_count": 0,
      "outputs": [
        {
          "output_type": "execute_result",
          "data": {
            "text/plain": [
              "array([[3.14, 3.14, 3.14, 3.14, 3.14],\n",
              "       [3.14, 3.14, 3.14, 3.14, 3.14],\n",
              "       [3.14, 3.14, 3.14, 3.14, 3.14]])"
            ]
          },
          "metadata": {
            "tags": []
          },
          "execution_count": 7
        }
      ]
    },
    {
      "cell_type": "code",
      "metadata": {
        "id": "SPrmicQ-12A4",
        "colab_type": "code",
        "outputId": "17b09811-5d17-4bcf-b5d8-1596372d9068",
        "colab": {
          "base_uri": "https://localhost:8080/",
          "height": 34
        }
      },
      "source": [
        "#create an array filled with a linear sequence starting at 0 stopping at 20 stepping by 2\n",
        "np.arange(0,20,2)"
      ],
      "execution_count": 0,
      "outputs": [
        {
          "output_type": "execute_result",
          "data": {
            "text/plain": [
              "array([ 0,  2,  4,  6,  8, 10, 12, 14, 16, 18])"
            ]
          },
          "metadata": {
            "tags": []
          },
          "execution_count": 8
        }
      ]
    },
    {
      "cell_type": "code",
      "metadata": {
        "id": "mGf_NY-R119h",
        "colab_type": "code",
        "outputId": "aedabd96-66e0-443e-d9ad-ff858eaf01fe",
        "colab": {
          "base_uri": "https://localhost:8080/",
          "height": 34
        }
      },
      "source": [
        "#create an array of five values evenly spaced between o and 1\n",
        "np.linspace(0,1,5)"
      ],
      "execution_count": 0,
      "outputs": [
        {
          "output_type": "execute_result",
          "data": {
            "text/plain": [
              "array([0.  , 0.25, 0.5 , 0.75, 1.  ])"
            ]
          },
          "metadata": {
            "tags": []
          },
          "execution_count": 9
        }
      ]
    },
    {
      "cell_type": "code",
      "metadata": {
        "id": "PTZqmp-K116V",
        "colab_type": "code",
        "outputId": "bc5f3dad-7ce5-4238-bd8e-3757bbfd7cfe",
        "colab": {
          "base_uri": "https://localhost:8080/",
          "height": 68
        }
      },
      "source": [
        "#create an array of uniformly distributed random values\n",
        "np.random.random((3,3))"
      ],
      "execution_count": 0,
      "outputs": [
        {
          "output_type": "execute_result",
          "data": {
            "text/plain": [
              "array([[0.8950308 , 0.10614186, 0.92327739],\n",
              "       [0.18826749, 0.61441432, 0.58633257],\n",
              "       [0.51184028, 0.37678683, 0.40016073]])"
            ]
          },
          "metadata": {
            "tags": []
          },
          "execution_count": 11
        }
      ]
    },
    {
      "cell_type": "code",
      "metadata": {
        "id": "qqbFmqN6sf4u",
        "colab_type": "code",
        "outputId": "c41e6ee6-2194-4ddb-b9cf-44352bb3156b",
        "colab": {
          "base_uri": "https://localhost:8080/",
          "height": 68
        }
      },
      "source": [
        "#create an array of normally distributed random values with mean 0 and standard deviation 1\n",
        "np.random.normal(0,1,(3,3))"
      ],
      "execution_count": 0,
      "outputs": [
        {
          "output_type": "execute_result",
          "data": {
            "text/plain": [
              "array([[-0.09365706, -0.57344837,  0.47261229],\n",
              "       [-0.66443322, -1.36708437, -1.99151869],\n",
              "       [ 0.79634065,  0.88188438, -1.89157916]])"
            ]
          },
          "metadata": {
            "tags": []
          },
          "execution_count": 13
        }
      ]
    },
    {
      "cell_type": "code",
      "metadata": {
        "id": "ZeGE8M1ksgKO",
        "colab_type": "code",
        "outputId": "e744d085-5315-4cba-9ccc-254b18535bb6",
        "colab": {
          "base_uri": "https://localhost:8080/",
          "height": 68
        }
      },
      "source": [
        "#create an array of random integers in interval [0-10]\n",
        "np.random.randint(0,10,(3,3))"
      ],
      "execution_count": 0,
      "outputs": [
        {
          "output_type": "execute_result",
          "data": {
            "text/plain": [
              "array([[4, 5, 5],\n",
              "       [1, 7, 0],\n",
              "       [1, 9, 8]])"
            ]
          },
          "metadata": {
            "tags": []
          },
          "execution_count": 15
        }
      ]
    },
    {
      "cell_type": "markdown",
      "metadata": {
        "id": "Rd0yCy8Zti7Q",
        "colab_type": "text"
      },
      "source": [
        "##Array Indexing"
      ]
    },
    {
      "cell_type": "code",
      "metadata": {
        "id": "_x0v87A-sfvX",
        "colab_type": "code",
        "colab": {}
      },
      "source": [
        "np.random.seed(0) #seed for reproducibility\n",
        "x1= np.random.randint(10,size=6) #1-D array\n",
        "x2= np.random.randint(10,size=(3,4)) #2-D array"
      ],
      "execution_count": 0,
      "outputs": []
    },
    {
      "cell_type": "code",
      "metadata": {
        "id": "P1NGtnQ5113m",
        "colab_type": "code",
        "outputId": "c96c00ff-d516-4c45-90fb-68d5fc100f77",
        "colab": {
          "base_uri": "https://localhost:8080/",
          "height": 34
        }
      },
      "source": [
        "x1"
      ],
      "execution_count": 0,
      "outputs": [
        {
          "output_type": "execute_result",
          "data": {
            "text/plain": [
              "array([5, 0, 3, 3, 7, 9])"
            ]
          },
          "metadata": {
            "tags": []
          },
          "execution_count": 18
        }
      ]
    },
    {
      "cell_type": "code",
      "metadata": {
        "id": "5phFTEHEuKXW",
        "colab_type": "code",
        "outputId": "0e5cd51f-0510-4cb0-b454-0e335f60a664",
        "colab": {
          "base_uri": "https://localhost:8080/",
          "height": 34
        }
      },
      "source": [
        "x1[0]  #accessing elemnts by indexing"
      ],
      "execution_count": 0,
      "outputs": [
        {
          "output_type": "execute_result",
          "data": {
            "text/plain": [
              "5"
            ]
          },
          "metadata": {
            "tags": []
          },
          "execution_count": 19
        }
      ]
    },
    {
      "cell_type": "code",
      "metadata": {
        "id": "aDk6sw4RuK7t",
        "colab_type": "code",
        "outputId": "45fbdd09-4c83-4d93-e9e2-e791e066d760",
        "colab": {
          "base_uri": "https://localhost:8080/",
          "height": 34
        }
      },
      "source": [
        "#to access index from the end of the array, we can use negative indices\n",
        "x1[-1]"
      ],
      "execution_count": 0,
      "outputs": [
        {
          "output_type": "execute_result",
          "data": {
            "text/plain": [
              "9"
            ]
          },
          "metadata": {
            "tags": []
          },
          "execution_count": 20
        }
      ]
    },
    {
      "cell_type": "code",
      "metadata": {
        "id": "uztVlJhpuK4Z",
        "colab_type": "code",
        "outputId": "15164afc-b95b-4726-e725-c390e5277149",
        "colab": {
          "base_uri": "https://localhost:8080/",
          "height": 68
        }
      },
      "source": [
        "#in multidimensional array we can access item using a comma seperated tuple of indices\n",
        "x2"
      ],
      "execution_count": 0,
      "outputs": [
        {
          "output_type": "execute_result",
          "data": {
            "text/plain": [
              "array([[3, 5, 2, 4],\n",
              "       [7, 6, 8, 8],\n",
              "       [1, 6, 7, 7]])"
            ]
          },
          "metadata": {
            "tags": []
          },
          "execution_count": 21
        }
      ]
    },
    {
      "cell_type": "code",
      "metadata": {
        "id": "Z66jZzJUuK0S",
        "colab_type": "code",
        "outputId": "2842545b-fe9e-4b67-c49b-ac807f9e7188",
        "colab": {
          "base_uri": "https://localhost:8080/",
          "height": 34
        }
      },
      "source": [
        "x2[0,0]"
      ],
      "execution_count": 0,
      "outputs": [
        {
          "output_type": "execute_result",
          "data": {
            "text/plain": [
              "3"
            ]
          },
          "metadata": {
            "tags": []
          },
          "execution_count": 22
        }
      ]
    },
    {
      "cell_type": "code",
      "metadata": {
        "id": "wu9GkiQkuKwS",
        "colab_type": "code",
        "outputId": "b565c4b0-1e0b-4d22-e128-b0ef435623c1",
        "colab": {
          "base_uri": "https://localhost:8080/",
          "height": 68
        }
      },
      "source": [
        "#we can also modify the values\n",
        "x2[0,0] = 12\n",
        "x2"
      ],
      "execution_count": 0,
      "outputs": [
        {
          "output_type": "execute_result",
          "data": {
            "text/plain": [
              "array([[12,  5,  2,  4],\n",
              "       [ 7,  6,  8,  8],\n",
              "       [ 1,  6,  7,  7]])"
            ]
          },
          "metadata": {
            "tags": []
          },
          "execution_count": 24
        }
      ]
    },
    {
      "cell_type": "markdown",
      "metadata": {
        "id": "5gfH47dnvNIO",
        "colab_type": "text"
      },
      "source": [
        "##Array Slicing"
      ]
    },
    {
      "cell_type": "code",
      "metadata": {
        "id": "BWKcXIWvuKUy",
        "colab_type": "code",
        "outputId": "d9647b14-9451-4272-b0b0-d51e04dd4f14",
        "colab": {
          "base_uri": "https://localhost:8080/",
          "height": 34
        }
      },
      "source": [
        "#The NumPy slicing syntax follows that of the standard Python list; to access a slice of\n",
        "#an array x, use this:\n",
        "#x[start:stop:step]\n",
        "x = np.arange(10)\n",
        "x"
      ],
      "execution_count": 0,
      "outputs": [
        {
          "output_type": "execute_result",
          "data": {
            "text/plain": [
              "array([0, 1, 2, 3, 4, 5, 6, 7, 8, 9])"
            ]
          },
          "metadata": {
            "tags": []
          },
          "execution_count": 26
        }
      ]
    },
    {
      "cell_type": "code",
      "metadata": {
        "id": "LVtav1hPuKSU",
        "colab_type": "code",
        "outputId": "2612d451-8fcc-4a95-91ed-77cb30af09e9",
        "colab": {
          "base_uri": "https://localhost:8080/",
          "height": 34
        }
      },
      "source": [
        "x[:5] #first five elemnts"
      ],
      "execution_count": 0,
      "outputs": [
        {
          "output_type": "execute_result",
          "data": {
            "text/plain": [
              "array([0, 1, 2, 3, 4])"
            ]
          },
          "metadata": {
            "tags": []
          },
          "execution_count": 27
        }
      ]
    },
    {
      "cell_type": "code",
      "metadata": {
        "id": "We8YP824uKPP",
        "colab_type": "code",
        "outputId": "75466818-c123-49ff-db2a-b2dd8a10c19d",
        "colab": {
          "base_uri": "https://localhost:8080/",
          "height": 34
        }
      },
      "source": [
        "x[5:] #elemnts after index 5"
      ],
      "execution_count": 0,
      "outputs": [
        {
          "output_type": "execute_result",
          "data": {
            "text/plain": [
              "array([5, 6, 7, 8, 9])"
            ]
          },
          "metadata": {
            "tags": []
          },
          "execution_count": 28
        }
      ]
    },
    {
      "cell_type": "code",
      "metadata": {
        "id": "lG7M5TZJuKJ1",
        "colab_type": "code",
        "outputId": "1bac47ca-07e4-4eda-a150-222f3a938b03",
        "colab": {
          "base_uri": "https://localhost:8080/",
          "height": 34
        }
      },
      "source": [
        "x[4:7] #middle subarray"
      ],
      "execution_count": 0,
      "outputs": [
        {
          "output_type": "execute_result",
          "data": {
            "text/plain": [
              "array([4, 5, 6])"
            ]
          },
          "metadata": {
            "tags": []
          },
          "execution_count": 29
        }
      ]
    },
    {
      "cell_type": "code",
      "metadata": {
        "id": "Bq-u2-c-uKE_",
        "colab_type": "code",
        "outputId": "edd195a7-6193-4c91-8f97-206cb2448959",
        "colab": {
          "base_uri": "https://localhost:8080/",
          "height": 34
        }
      },
      "source": [
        "x[::2] #every other elemnt"
      ],
      "execution_count": 0,
      "outputs": [
        {
          "output_type": "execute_result",
          "data": {
            "text/plain": [
              "array([0, 2, 4, 6, 8])"
            ]
          },
          "metadata": {
            "tags": []
          },
          "execution_count": 30
        }
      ]
    },
    {
      "cell_type": "code",
      "metadata": {
        "id": "n7qb4-7kv0fu",
        "colab_type": "code",
        "outputId": "c18499ea-ca03-4642-f6d9-f7d335b299de",
        "colab": {
          "base_uri": "https://localhost:8080/",
          "height": 34
        }
      },
      "source": [
        "x[1::2] #every other element starting at index 1"
      ],
      "execution_count": 0,
      "outputs": [
        {
          "output_type": "execute_result",
          "data": {
            "text/plain": [
              "array([1, 3, 5, 7, 9])"
            ]
          },
          "metadata": {
            "tags": []
          },
          "execution_count": 31
        }
      ]
    },
    {
      "cell_type": "code",
      "metadata": {
        "id": "W1PPqmPCuJ_X",
        "colab_type": "code",
        "outputId": "e4dc42e2-f9d4-4572-dcc3-8ff7a284a35b",
        "colab": {
          "base_uri": "https://localhost:8080/",
          "height": 34
        }
      },
      "source": [
        "x[::-1] #all elements reversed"
      ],
      "execution_count": 0,
      "outputs": [
        {
          "output_type": "execute_result",
          "data": {
            "text/plain": [
              "array([9, 8, 7, 6, 5, 4, 3, 2, 1, 0])"
            ]
          },
          "metadata": {
            "tags": []
          },
          "execution_count": 32
        }
      ]
    },
    {
      "cell_type": "markdown",
      "metadata": {
        "id": "V-M_KYeAwWDp",
        "colab_type": "text"
      },
      "source": [
        "##Multidimensional subaaray\n",
        "it works the same way , with multiple slices seperated by commas"
      ]
    },
    {
      "cell_type": "code",
      "metadata": {
        "id": "kBy8yAeXuJ7k",
        "colab_type": "code",
        "outputId": "ec3b558c-ec13-4202-a7a5-7f6c11075f4f",
        "colab": {
          "base_uri": "https://localhost:8080/",
          "height": 68
        }
      },
      "source": [
        "x2"
      ],
      "execution_count": 0,
      "outputs": [
        {
          "output_type": "execute_result",
          "data": {
            "text/plain": [
              "array([[12,  5,  2,  4],\n",
              "       [ 7,  6,  8,  8],\n",
              "       [ 1,  6,  7,  7]])"
            ]
          },
          "metadata": {
            "tags": []
          },
          "execution_count": 33
        }
      ]
    },
    {
      "cell_type": "code",
      "metadata": {
        "id": "j1fdzMZKuJ2t",
        "colab_type": "code",
        "outputId": "665a3a43-a6ea-4ba9-f8e8-9f6386c3fb84",
        "colab": {
          "base_uri": "https://localhost:8080/",
          "height": 51
        }
      },
      "source": [
        "x2[:2,:3] #two roms, three columns"
      ],
      "execution_count": 0,
      "outputs": [
        {
          "output_type": "execute_result",
          "data": {
            "text/plain": [
              "array([[12,  5,  2],\n",
              "       [ 7,  6,  8]])"
            ]
          },
          "metadata": {
            "tags": []
          },
          "execution_count": 34
        }
      ]
    },
    {
      "cell_type": "code",
      "metadata": {
        "id": "x5Tx-3aAuJyR",
        "colab_type": "code",
        "outputId": "16179158-4212-4ec8-805b-716acf4cca42",
        "colab": {
          "base_uri": "https://localhost:8080/",
          "height": 68
        }
      },
      "source": [
        "x2[:3,::2] # all rows every other column"
      ],
      "execution_count": 0,
      "outputs": [
        {
          "output_type": "execute_result",
          "data": {
            "text/plain": [
              "array([[12,  2],\n",
              "       [ 7,  8],\n",
              "       [ 1,  7]])"
            ]
          },
          "metadata": {
            "tags": []
          },
          "execution_count": 35
        }
      ]
    },
    {
      "cell_type": "code",
      "metadata": {
        "id": "SYCYbi80uJuu",
        "colab_type": "code",
        "outputId": "21eb0a5b-e4c0-4394-8852-139d13cd2ab2",
        "colab": {
          "base_uri": "https://localhost:8080/",
          "height": 68
        }
      },
      "source": [
        "#subarray dimension can be reversed together\n",
        "x2[::-1,::-1]"
      ],
      "execution_count": 0,
      "outputs": [
        {
          "output_type": "execute_result",
          "data": {
            "text/plain": [
              "array([[ 7,  7,  6,  1],\n",
              "       [ 8,  8,  6,  7],\n",
              "       [ 4,  2,  5, 12]])"
            ]
          },
          "metadata": {
            "tags": []
          },
          "execution_count": 36
        }
      ]
    },
    {
      "cell_type": "markdown",
      "metadata": {
        "id": "yN6IgMxmxlWq",
        "colab_type": "text"
      },
      "source": [
        "##Accessing arrays rows and columns"
      ]
    },
    {
      "cell_type": "code",
      "metadata": {
        "id": "ZsNF8Hi5xj7W",
        "colab_type": "code",
        "outputId": "7a495058-05b3-4502-a802-57d92461eba4",
        "colab": {
          "base_uri": "https://localhost:8080/",
          "height": 34
        }
      },
      "source": [
        "print(x2[:,0]) #first column of x2"
      ],
      "execution_count": 0,
      "outputs": [
        {
          "output_type": "stream",
          "text": [
            "[12  7  1]\n"
          ],
          "name": "stdout"
        }
      ]
    },
    {
      "cell_type": "code",
      "metadata": {
        "id": "Upheamb8xkbs",
        "colab_type": "code",
        "outputId": "1c2c71a1-01da-4a31-e349-23c1d66d1288",
        "colab": {
          "base_uri": "https://localhost:8080/",
          "height": 34
        }
      },
      "source": [
        "print(x2[0,:]) #first row of x2"
      ],
      "execution_count": 0,
      "outputs": [
        {
          "output_type": "stream",
          "text": [
            "[12  5  2  4]\n"
          ],
          "name": "stdout"
        }
      ]
    },
    {
      "cell_type": "markdown",
      "metadata": {
        "id": "Ie03Y8uJykM7",
        "colab_type": "text"
      },
      "source": [
        "##Subarrays as no copy views"
      ]
    },
    {
      "cell_type": "code",
      "metadata": {
        "id": "NOYJLr8NxkSg",
        "colab_type": "code",
        "outputId": "1d44e2b8-a503-4103-a0e4-14b4a384020c",
        "colab": {
          "base_uri": "https://localhost:8080/",
          "height": 68
        }
      },
      "source": [
        "#Array slices return views rather than copy of array datas.\n",
        "#consider our 2-D array\n",
        "x2"
      ],
      "execution_count": 0,
      "outputs": [
        {
          "output_type": "execute_result",
          "data": {
            "text/plain": [
              "array([[12,  5,  2,  4],\n",
              "       [ 7,  6,  8,  8],\n",
              "       [ 1,  6,  7,  7]])"
            ]
          },
          "metadata": {
            "tags": []
          },
          "execution_count": 39
        }
      ]
    },
    {
      "cell_type": "code",
      "metadata": {
        "id": "l2-9RYCpxkKq",
        "colab_type": "code",
        "outputId": "3d3f0265-0b4c-46fa-9164-a6cb8d39d5a3",
        "colab": {
          "base_uri": "https://localhost:8080/",
          "height": 51
        }
      },
      "source": [
        "#extract a 2*2 subarray\n",
        "x2_sub = x2[:2,:2]\n",
        "print(x2_sub)"
      ],
      "execution_count": 0,
      "outputs": [
        {
          "output_type": "stream",
          "text": [
            "[[12  5]\n",
            " [ 7  6]]\n"
          ],
          "name": "stdout"
        }
      ]
    },
    {
      "cell_type": "code",
      "metadata": {
        "id": "AX2jt1xKxkHM",
        "colab_type": "code",
        "outputId": "459ff442-7570-4230-ad97-8909d271692a",
        "colab": {
          "base_uri": "https://localhost:8080/",
          "height": 102
        }
      },
      "source": [
        "#Now if we modify this subarray, we will see original array is  changed\n",
        "x2_sub[0,0] = 99\n",
        "print(x2_sub)"
      ],
      "execution_count": 0,
      "outputs": [
        {
          "output_type": "stream",
          "text": [
            "[[99  5]\n",
            " [ 7  6]]\n",
            "[[99  5  2  4]\n",
            " [ 7  6  8  8]\n",
            " [ 1  6  7  7]]\n"
          ],
          "name": "stdout"
        }
      ]
    },
    {
      "cell_type": "code",
      "metadata": {
        "id": "EgouBk-5xkCb",
        "colab_type": "code",
        "outputId": "6f33ec7c-c717-404f-ba24-e78644f25c3d",
        "colab": {
          "base_uri": "https://localhost:8080/",
          "height": 68
        }
      },
      "source": [
        "print(x2)   #it is quite usefull when working with large datasets we can access and process pieces of datasets"
      ],
      "execution_count": 0,
      "outputs": [
        {
          "output_type": "stream",
          "text": [
            "[[99  5  2  4]\n",
            " [ 7  6  8  8]\n",
            " [ 1  6  7  7]]\n"
          ],
          "name": "stdout"
        }
      ]
    },
    {
      "cell_type": "code",
      "metadata": {
        "id": "kAYI_T8mxj4T",
        "colab_type": "code",
        "outputId": "c472ed8a-a59a-4103-d338-0e474f965eef",
        "colab": {
          "base_uri": "https://localhost:8080/",
          "height": 51
        }
      },
      "source": [
        "x2_sub_copy = x2[:2,:2].copy()   #creating a copy of x2\n",
        "print(x2_sub_copy)"
      ],
      "execution_count": 0,
      "outputs": [
        {
          "output_type": "stream",
          "text": [
            "[[99  5]\n",
            " [ 7  6]]\n"
          ],
          "name": "stdout"
        }
      ]
    },
    {
      "cell_type": "code",
      "metadata": {
        "id": "ko44w0OvzfxI",
        "colab_type": "code",
        "outputId": "61bb497b-7514-4d0e-ff84-cfb7dd9f1444",
        "colab": {
          "base_uri": "https://localhost:8080/",
          "height": 51
        }
      },
      "source": [
        "#if we now modify this subaaray original is not changed\n",
        "x2_sub_copy[0,0] = 99\n",
        "print(x2_sub_copy)"
      ],
      "execution_count": 0,
      "outputs": [
        {
          "output_type": "stream",
          "text": [
            "[[99  5]\n",
            " [ 7  6]]\n"
          ],
          "name": "stdout"
        }
      ]
    },
    {
      "cell_type": "code",
      "metadata": {
        "id": "15BRCiCGzgFo",
        "colab_type": "code",
        "outputId": "f28bf231-0a9d-495d-8801-4c4a8a4f082c",
        "colab": {
          "base_uri": "https://localhost:8080/",
          "height": 68
        }
      },
      "source": [
        "print(x2)"
      ],
      "execution_count": 0,
      "outputs": [
        {
          "output_type": "stream",
          "text": [
            "[[99  5  2  4]\n",
            " [ 7  6  8  8]\n",
            " [ 1  6  7  7]]\n"
          ],
          "name": "stdout"
        }
      ]
    },
    {
      "cell_type": "markdown",
      "metadata": {
        "id": "-p3T7Mn80x56",
        "colab_type": "text"
      },
      "source": [
        "##Reshaping of arrays"
      ]
    },
    {
      "cell_type": "code",
      "metadata": {
        "id": "0W1nEO3szgdm",
        "colab_type": "code",
        "outputId": "adaea23d-7649-41e5-fe1a-267e9a322926",
        "colab": {
          "base_uri": "https://localhost:8080/",
          "height": 68
        }
      },
      "source": [
        "a = np.arange(1,10).reshape(3,3) #numbers 1 to 9 in 3*3 grid\n",
        "a"
      ],
      "execution_count": 0,
      "outputs": [
        {
          "output_type": "execute_result",
          "data": {
            "text/plain": [
              "array([[1, 2, 3],\n",
              "       [4, 5, 6],\n",
              "       [7, 8, 9]])"
            ]
          },
          "metadata": {
            "tags": []
          },
          "execution_count": 49
        }
      ]
    },
    {
      "cell_type": "code",
      "metadata": {
        "id": "I9ybCDWS0bpF",
        "colab_type": "code",
        "outputId": "c30fd188-4aa8-407d-f2e6-b0e9db32d20d",
        "colab": {
          "base_uri": "https://localhost:8080/",
          "height": 34
        }
      },
      "source": [
        "a = np.array([1,2,3])\n",
        "a"
      ],
      "execution_count": 0,
      "outputs": [
        {
          "output_type": "execute_result",
          "data": {
            "text/plain": [
              "array([1, 2, 3])"
            ]
          },
          "metadata": {
            "tags": []
          },
          "execution_count": 51
        }
      ]
    },
    {
      "cell_type": "code",
      "metadata": {
        "id": "PkO6fJFJ0b2j",
        "colab_type": "code",
        "outputId": "a4c72b68-ef8c-4692-a554-c272deb28ec8",
        "colab": {
          "base_uri": "https://localhost:8080/",
          "height": 34
        }
      },
      "source": [
        "a.reshape(1,3)  #1 row 3 columns"
      ],
      "execution_count": 0,
      "outputs": [
        {
          "output_type": "execute_result",
          "data": {
            "text/plain": [
              "array([[1, 2, 3]])"
            ]
          },
          "metadata": {
            "tags": []
          },
          "execution_count": 52
        }
      ]
    },
    {
      "cell_type": "code",
      "metadata": {
        "id": "Ua9bP5H60bkq",
        "colab_type": "code",
        "outputId": "7f2220f1-4ae9-47a8-bfb7-d82880817124",
        "colab": {
          "base_uri": "https://localhost:8080/",
          "height": 68
        }
      },
      "source": [
        "a.reshape(3,1) #three rows and 1 column"
      ],
      "execution_count": 0,
      "outputs": [
        {
          "output_type": "execute_result",
          "data": {
            "text/plain": [
              "array([[1],\n",
              "       [2],\n",
              "       [3]])"
            ]
          },
          "metadata": {
            "tags": []
          },
          "execution_count": 53
        }
      ]
    },
    {
      "cell_type": "markdown",
      "metadata": {
        "id": "tIeWQpVF1ttn",
        "colab_type": "text"
      },
      "source": [
        "##Array concatenation"
      ]
    },
    {
      "cell_type": "code",
      "metadata": {
        "id": "QCmUshkY0bff",
        "colab_type": "code",
        "outputId": "64419a66-080f-49cb-e56c-4f826ab89dc8",
        "colab": {
          "base_uri": "https://localhost:8080/",
          "height": 34
        }
      },
      "source": [
        "x= np.array([1,2,3])\n",
        "y= np.array([3,2,1])\n",
        "np.concatenate([x,y])  #concatenating/joining two arrays i.e x and y"
      ],
      "execution_count": 0,
      "outputs": [
        {
          "output_type": "execute_result",
          "data": {
            "text/plain": [
              "array([1, 2, 3, 3, 2, 1])"
            ]
          },
          "metadata": {
            "tags": []
          },
          "execution_count": 54
        }
      ]
    },
    {
      "cell_type": "code",
      "metadata": {
        "id": "RMLedK3g1j3F",
        "colab_type": "code",
        "outputId": "48557605-5e12-4e42-e763-b223a7ff491d",
        "colab": {
          "base_uri": "https://localhost:8080/",
          "height": 34
        }
      },
      "source": [
        "#we can also concatenate more than two arrays at once\n",
        "z= [99,99,99]\n",
        "np.concatenate([x,y,z])"
      ],
      "execution_count": 0,
      "outputs": [
        {
          "output_type": "execute_result",
          "data": {
            "text/plain": [
              "array([ 1,  2,  3,  3,  2,  1, 99, 99, 99])"
            ]
          },
          "metadata": {
            "tags": []
          },
          "execution_count": 55
        }
      ]
    },
    {
      "cell_type": "code",
      "metadata": {
        "id": "q876dUol1kxX",
        "colab_type": "code",
        "colab": {}
      },
      "source": [
        "#np.concatenate can also be used for 2-D arrays\n",
        "a= np.array([[1,2,3],\n",
        "             [4,5,6]])"
      ],
      "execution_count": 0,
      "outputs": []
    },
    {
      "cell_type": "code",
      "metadata": {
        "id": "BZwmBOsC1ktF",
        "colab_type": "code",
        "outputId": "4ffd2ed7-7a36-4383-dc48-fc7cbec866af",
        "colab": {
          "base_uri": "https://localhost:8080/",
          "height": 85
        }
      },
      "source": [
        "#concatenate along the first axis\n",
        "np.concatenate([a,a])"
      ],
      "execution_count": 0,
      "outputs": [
        {
          "output_type": "execute_result",
          "data": {
            "text/plain": [
              "array([[1, 2, 3],\n",
              "       [4, 5, 6],\n",
              "       [1, 2, 3],\n",
              "       [4, 5, 6]])"
            ]
          },
          "metadata": {
            "tags": []
          },
          "execution_count": 57
        }
      ]
    },
    {
      "cell_type": "code",
      "metadata": {
        "id": "p_jw_D3r1kon",
        "colab_type": "code",
        "outputId": "1af82680-644b-4bc0-8802-23b07012deb3",
        "colab": {
          "base_uri": "https://localhost:8080/",
          "height": 51
        }
      },
      "source": [
        "#concatenate along the second axis\n",
        "np.concatenate([a,a],axis=1)"
      ],
      "execution_count": 0,
      "outputs": [
        {
          "output_type": "execute_result",
          "data": {
            "text/plain": [
              "array([[1, 2, 3, 1, 2, 3],\n",
              "       [4, 5, 6, 4, 5, 6]])"
            ]
          },
          "metadata": {
            "tags": []
          },
          "execution_count": 59
        }
      ]
    },
    {
      "cell_type": "code",
      "metadata": {
        "id": "1UH-fsbo1kkJ",
        "colab_type": "code",
        "outputId": "05757882-8ce7-4ef2-b141-222ca1f1012b",
        "colab": {
          "base_uri": "https://localhost:8080/",
          "height": 68
        }
      },
      "source": [
        "#for working with with arrays of mixed dimensions, we can use np.vstack and np.hstack\n",
        "x= np.array([1,2,3])\n",
        "a=np.array([[9,8,7],\n",
        "            [6,5,4]])\n",
        "np.vstack([a,x])  #vertically stack the arrays\n"
      ],
      "execution_count": 0,
      "outputs": [
        {
          "output_type": "execute_result",
          "data": {
            "text/plain": [
              "array([[9, 8, 7],\n",
              "       [6, 5, 4],\n",
              "       [1, 2, 3]])"
            ]
          },
          "metadata": {
            "tags": []
          },
          "execution_count": 60
        }
      ]
    },
    {
      "cell_type": "code",
      "metadata": {
        "id": "7yscGeGh1kfj",
        "colab_type": "code",
        "outputId": "424b179a-7126-4b17-cb72-5318545448cb",
        "colab": {
          "base_uri": "https://localhost:8080/",
          "height": 51
        }
      },
      "source": [
        "y= np.array([[99],\n",
        "             [99]])\n",
        "np.hstack([a,y])    #horizontally stack the arrays"
      ],
      "execution_count": 0,
      "outputs": [
        {
          "output_type": "execute_result",
          "data": {
            "text/plain": [
              "array([[ 9,  8,  7, 99],\n",
              "       [ 6,  5,  4, 99]])"
            ]
          },
          "metadata": {
            "tags": []
          },
          "execution_count": 61
        }
      ]
    },
    {
      "cell_type": "markdown",
      "metadata": {
        "id": "8d1KZazf6-Bh",
        "colab_type": "text"
      },
      "source": [
        "##Splitting of arrays"
      ]
    },
    {
      "cell_type": "code",
      "metadata": {
        "id": "19hl2HHo1kbK",
        "colab_type": "code",
        "outputId": "61dee95b-03f5-4141-d846-aad99dc1711e",
        "colab": {
          "base_uri": "https://localhost:8080/",
          "height": 34
        }
      },
      "source": [
        "x = [1,2,3,99,99,3,2,1]\n",
        "x1,x2,x3 =  np.split(x,[3,5]) #splitting arrays x1 holds values from 0 to 3rd indices, x2 holds values 3 to 5 indices, rest is stored in x3(indices starts with 0)\n",
        "print(x1,x2,x3)   # N split points leads to N + 1 subaarays"
      ],
      "execution_count": 0,
      "outputs": [
        {
          "output_type": "stream",
          "text": [
            "[1 2 3] [99 99] [3 2 1]\n"
          ],
          "name": "stdout"
        }
      ]
    },
    {
      "cell_type": "code",
      "metadata": {
        "id": "QINgIKP41kVh",
        "colab_type": "code",
        "outputId": "7730553e-1f02-491c-a64d-d05838986985",
        "colab": {
          "base_uri": "https://localhost:8080/",
          "height": 85
        }
      },
      "source": [
        "a = np.arange(16).reshape(4,4)\n",
        "a"
      ],
      "execution_count": 0,
      "outputs": [
        {
          "output_type": "execute_result",
          "data": {
            "text/plain": [
              "array([[ 0,  1,  2,  3],\n",
              "       [ 4,  5,  6,  7],\n",
              "       [ 8,  9, 10, 11],\n",
              "       [12, 13, 14, 15]])"
            ]
          },
          "metadata": {
            "tags": []
          },
          "execution_count": 65
        }
      ]
    },
    {
      "cell_type": "code",
      "metadata": {
        "id": "5cZNY7vR1jxG",
        "colab_type": "code",
        "outputId": "6f11003f-7760-4ef4-e0b4-fb7136cbffec",
        "colab": {
          "base_uri": "https://localhost:8080/",
          "height": 85
        }
      },
      "source": [
        "upper,lower = np.vsplit(a,[2])  #vertical split from 2nd row\n",
        "print(upper)\n",
        "print(lower)"
      ],
      "execution_count": 0,
      "outputs": [
        {
          "output_type": "stream",
          "text": [
            "[[0 1 2 3]\n",
            " [4 5 6 7]]\n",
            "[[ 8  9 10 11]\n",
            " [12 13 14 15]]\n"
          ],
          "name": "stdout"
        }
      ]
    },
    {
      "cell_type": "code",
      "metadata": {
        "id": "63OI9i1T1jsB",
        "colab_type": "code",
        "outputId": "9d800fad-f0bd-42f8-d17e-b0927524c0a9",
        "colab": {
          "base_uri": "https://localhost:8080/",
          "height": 153
        }
      },
      "source": [
        "left,right = np.hsplit(a,[2]) #vertical split from 2 columns\n",
        "print(left)\n",
        "print(right)"
      ],
      "execution_count": 0,
      "outputs": [
        {
          "output_type": "stream",
          "text": [
            "[[ 0  1]\n",
            " [ 4  5]\n",
            " [ 8  9]\n",
            " [12 13]]\n",
            "[[ 2  3]\n",
            " [ 6  7]\n",
            " [10 11]\n",
            " [14 15]]\n"
          ],
          "name": "stdout"
        }
      ]
    },
    {
      "cell_type": "markdown",
      "metadata": {
        "id": "BgdnEfSCFO7q",
        "colab_type": "text"
      },
      "source": [
        "##Numpy Universal functions"
      ]
    },
    {
      "cell_type": "markdown",
      "metadata": {
        "id": "8Cj1-GkfFYZF",
        "colab_type": "text"
      },
      "source": [
        "###Array Arithmatic"
      ]
    },
    {
      "cell_type": "code",
      "metadata": {
        "id": "sbShUxXu1jnC",
        "colab_type": "code",
        "colab": {}
      },
      "source": [
        "x= np.arange(4)"
      ],
      "execution_count": 0,
      "outputs": []
    },
    {
      "cell_type": "code",
      "metadata": {
        "id": "hVvI2q9w1jgL",
        "colab_type": "code",
        "outputId": "d2fde659-5829-469c-e3c8-dce269409fc3",
        "colab": {
          "base_uri": "https://localhost:8080/",
          "height": 34
        }
      },
      "source": [
        "print('X = ',x)  #prints value of x"
      ],
      "execution_count": 0,
      "outputs": [
        {
          "output_type": "stream",
          "text": [
            "X =  [0 1 2 3]\n"
          ],
          "name": "stdout"
        }
      ]
    },
    {
      "cell_type": "code",
      "metadata": {
        "id": "QGhZqDnw0bWT",
        "colab_type": "code",
        "outputId": "36c56a46-6662-498c-de22-278380115f08",
        "colab": {
          "base_uri": "https://localhost:8080/",
          "height": 34
        }
      },
      "source": [
        "print('X + 5= ',x+5)  #addition, 5 is added with each element in array"
      ],
      "execution_count": 0,
      "outputs": [
        {
          "output_type": "stream",
          "text": [
            "X + 5=  [5 6 7 8]\n"
          ],
          "name": "stdout"
        }
      ]
    },
    {
      "cell_type": "code",
      "metadata": {
        "id": "6nY6YDl0zhIr",
        "colab_type": "code",
        "outputId": "4ad7b998-1147-4b8d-c1fe-7b505b21b886",
        "colab": {
          "base_uri": "https://localhost:8080/",
          "height": 34
        }
      },
      "source": [
        "print('X + 5= ',x+5)  #addition, 5 is added with each element in array"
      ],
      "execution_count": 0,
      "outputs": [
        {
          "output_type": "stream",
          "text": [
            "X + 5=  [5 6 7 8]\n"
          ],
          "name": "stdout"
        }
      ]
    },
    {
      "cell_type": "code",
      "metadata": {
        "id": "HMSy88iJxjy4",
        "colab_type": "code",
        "outputId": "fd720d57-d562-4153-b49b-2d8c79306d68",
        "colab": {
          "base_uri": "https://localhost:8080/",
          "height": 34
        }
      },
      "source": [
        "print('X - 5= ',x-5)  #subtraction, 5 is subtracted with each element in array"
      ],
      "execution_count": 0,
      "outputs": [
        {
          "output_type": "stream",
          "text": [
            "X - 5=  [-5 -4 -3 -2]\n"
          ],
          "name": "stdout"
        }
      ]
    },
    {
      "cell_type": "code",
      "metadata": {
        "id": "QPujNiRExjth",
        "colab_type": "code",
        "outputId": "5826f3db-4aa1-4fa4-e89a-36edd859e31b",
        "colab": {
          "base_uri": "https://localhost:8080/",
          "height": 34
        }
      },
      "source": [
        "print(\"x*2=\", x*2)    #multiplication"
      ],
      "execution_count": 0,
      "outputs": [
        {
          "output_type": "stream",
          "text": [
            "x*2= [0 2 4 6]\n"
          ],
          "name": "stdout"
        }
      ]
    },
    {
      "cell_type": "code",
      "metadata": {
        "id": "sDkb0IOduJn9",
        "colab_type": "code",
        "outputId": "2f67d3a1-c3d6-486e-c589-8dcf75a44e63",
        "colab": {
          "base_uri": "https://localhost:8080/",
          "height": 34
        }
      },
      "source": [
        "print('x/2=',x/2)    #division"
      ],
      "execution_count": 0,
      "outputs": [
        {
          "output_type": "stream",
          "text": [
            "x/2= [0.  0.5 1.  1.5]\n"
          ],
          "name": "stdout"
        }
      ]
    },
    {
      "cell_type": "code",
      "metadata": {
        "id": "EDFb2daW11vw",
        "colab_type": "code",
        "outputId": "59b4ebbe-42c8-40a5-e5c8-bd2668d1524e",
        "colab": {
          "base_uri": "https://localhost:8080/",
          "height": 34
        }
      },
      "source": [
        "print('x//2=', x//2)  #floor devision"
      ],
      "execution_count": 0,
      "outputs": [
        {
          "output_type": "stream",
          "text": [
            "x//2= [0 0 1 1]\n"
          ],
          "name": "stdout"
        }
      ]
    },
    {
      "cell_type": "code",
      "metadata": {
        "id": "ihOYxuY4GzJ7",
        "colab_type": "code",
        "outputId": "c064182c-baf5-43f5-a63c-a2263e69b80e",
        "colab": {
          "base_uri": "https://localhost:8080/",
          "height": 34
        }
      },
      "source": [
        "print('-x=', -x)   #negation"
      ],
      "execution_count": 0,
      "outputs": [
        {
          "output_type": "stream",
          "text": [
            "-x= [ 0 -1 -2 -3]\n"
          ],
          "name": "stdout"
        }
      ]
    },
    {
      "cell_type": "code",
      "metadata": {
        "id": "yHoME0JFGzi2",
        "colab_type": "code",
        "outputId": "414a8226-a31d-48be-9645-bd7bde663f8b",
        "colab": {
          "base_uri": "https://localhost:8080/",
          "height": 34
        }
      },
      "source": [
        "print('x ** 2=', x**2)   #exponentiation"
      ],
      "execution_count": 0,
      "outputs": [
        {
          "output_type": "stream",
          "text": [
            "x ** 2= [0 1 4 9]\n"
          ],
          "name": "stdout"
        }
      ]
    },
    {
      "cell_type": "code",
      "metadata": {
        "id": "xfLQpiC6Gz4D",
        "colab_type": "code",
        "outputId": "f0ddeb5c-b18d-4d00-9966-d4f1479091b5",
        "colab": {
          "base_uri": "https://localhost:8080/",
          "height": 34
        }
      },
      "source": [
        "print('x % 2 = ', x%2)   #modulus"
      ],
      "execution_count": 0,
      "outputs": [
        {
          "output_type": "stream",
          "text": [
            "x % 2 =  [0 1 0 1]\n"
          ],
          "name": "stdout"
        }
      ]
    },
    {
      "cell_type": "code",
      "metadata": {
        "id": "KOxWGzJ4G0Ms",
        "colab_type": "code",
        "outputId": "ca271a8a-1967-4d3b-c0d3-9008b39c203f",
        "colab": {
          "base_uri": "https://localhost:8080/",
          "height": 34
        }
      },
      "source": [
        "#absolute value\n",
        "x= np.array([-2,-2,0,1,2])\n",
        "abs(x)   #its gives the absolute values"
      ],
      "execution_count": 0,
      "outputs": [
        {
          "output_type": "execute_result",
          "data": {
            "text/plain": [
              "array([2, 2, 0, 1, 2])"
            ]
          },
          "metadata": {
            "tags": []
          },
          "execution_count": 81
        }
      ]
    },
    {
      "cell_type": "code",
      "metadata": {
        "id": "cS9uZuwSHgl3",
        "colab_type": "code",
        "outputId": "a7e0620c-a20b-44a6-d8c8-e7736df50d9e",
        "colab": {
          "base_uri": "https://localhost:8080/",
          "height": 34
        }
      },
      "source": [
        "np.absolute(x)"
      ],
      "execution_count": 0,
      "outputs": [
        {
          "output_type": "execute_result",
          "data": {
            "text/plain": [
              "array([2, 2, 0, 1, 2])"
            ]
          },
          "metadata": {
            "tags": []
          },
          "execution_count": 82
        }
      ]
    },
    {
      "cell_type": "code",
      "metadata": {
        "id": "wHZqJTPXHggp",
        "colab_type": "code",
        "outputId": "31b0c1d8-39ba-42fd-e438-f4e7866ac849",
        "colab": {
          "base_uri": "https://localhost:8080/",
          "height": 34
        }
      },
      "source": [
        "np.abs(x)"
      ],
      "execution_count": 0,
      "outputs": [
        {
          "output_type": "execute_result",
          "data": {
            "text/plain": [
              "array([2, 2, 0, 1, 2])"
            ]
          },
          "metadata": {
            "tags": []
          },
          "execution_count": 83
        }
      ]
    },
    {
      "cell_type": "code",
      "metadata": {
        "id": "bbkOO8vpHgX5",
        "colab_type": "code",
        "outputId": "56f0e0eb-e387-409a-fae7-e20db67ca42d",
        "colab": {
          "base_uri": "https://localhost:8080/",
          "height": 34
        }
      },
      "source": [
        "#Exponents\n",
        "x= [1,2,3]\n",
        "x"
      ],
      "execution_count": 0,
      "outputs": [
        {
          "output_type": "execute_result",
          "data": {
            "text/plain": [
              "[1, 2, 3]"
            ]
          },
          "metadata": {
            "tags": []
          },
          "execution_count": 84
        }
      ]
    },
    {
      "cell_type": "code",
      "metadata": {
        "id": "ZrXRLazsG0kT",
        "colab_type": "code",
        "outputId": "c5eb150f-586d-4efe-c221-3dcb1e9ceb7d",
        "colab": {
          "base_uri": "https://localhost:8080/",
          "height": 34
        }
      },
      "source": [
        "np.exp(x)"
      ],
      "execution_count": 0,
      "outputs": [
        {
          "output_type": "execute_result",
          "data": {
            "text/plain": [
              "array([ 2.71828183,  7.3890561 , 20.08553692])"
            ]
          },
          "metadata": {
            "tags": []
          },
          "execution_count": 85
        }
      ]
    },
    {
      "cell_type": "code",
      "metadata": {
        "id": "3VbFeJ0QIgNN",
        "colab_type": "code",
        "outputId": "ca3f7e1d-b39a-4caa-af92-60a184863e82",
        "colab": {
          "base_uri": "https://localhost:8080/",
          "height": 34
        }
      },
      "source": [
        "np.exp2(x)"
      ],
      "execution_count": 0,
      "outputs": [
        {
          "output_type": "execute_result",
          "data": {
            "text/plain": [
              "array([2., 4., 8.])"
            ]
          },
          "metadata": {
            "tags": []
          },
          "execution_count": 86
        }
      ]
    },
    {
      "cell_type": "code",
      "metadata": {
        "id": "McMXBcCIIhDk",
        "colab_type": "code",
        "outputId": "c72ade86-d758-4c65-9aa4-2398e7db4a8e",
        "colab": {
          "base_uri": "https://localhost:8080/",
          "height": 34
        }
      },
      "source": [
        "np.power(3,x)"
      ],
      "execution_count": 0,
      "outputs": [
        {
          "output_type": "execute_result",
          "data": {
            "text/plain": [
              "array([ 3,  9, 27])"
            ]
          },
          "metadata": {
            "tags": []
          },
          "execution_count": 87
        }
      ]
    },
    {
      "cell_type": "code",
      "metadata": {
        "id": "ptlyIBORIicw",
        "colab_type": "code",
        "outputId": "ee2b142c-647d-4e5e-ad34-60f9ee304559",
        "colab": {
          "base_uri": "https://localhost:8080/",
          "height": 34
        }
      },
      "source": [
        "#Logarithms\n",
        "x= [1,2,4,10]\n",
        "x"
      ],
      "execution_count": 0,
      "outputs": [
        {
          "output_type": "execute_result",
          "data": {
            "text/plain": [
              "[1, 2, 4, 10]"
            ]
          },
          "metadata": {
            "tags": []
          },
          "execution_count": 88
        }
      ]
    },
    {
      "cell_type": "code",
      "metadata": {
        "id": "X65lpi8CI3e7",
        "colab_type": "code",
        "outputId": "8941c6b6-0ba4-4c58-cebc-c65b5028ec9c",
        "colab": {
          "base_uri": "https://localhost:8080/",
          "height": 34
        }
      },
      "source": [
        "np.log(x)"
      ],
      "execution_count": 0,
      "outputs": [
        {
          "output_type": "execute_result",
          "data": {
            "text/plain": [
              "array([0.        , 0.69314718, 1.38629436, 2.30258509])"
            ]
          },
          "metadata": {
            "tags": []
          },
          "execution_count": 89
        }
      ]
    },
    {
      "cell_type": "code",
      "metadata": {
        "id": "dx5dr4UYI4he",
        "colab_type": "code",
        "outputId": "3b1d486f-efc4-43d3-9d2a-248a0bbd35c0",
        "colab": {
          "base_uri": "https://localhost:8080/",
          "height": 34
        }
      },
      "source": [
        "np.log2(x)"
      ],
      "execution_count": 0,
      "outputs": [
        {
          "output_type": "execute_result",
          "data": {
            "text/plain": [
              "array([0.        , 1.        , 2.        , 3.32192809])"
            ]
          },
          "metadata": {
            "tags": []
          },
          "execution_count": 90
        }
      ]
    },
    {
      "cell_type": "code",
      "metadata": {
        "id": "TmaB1VDtI44H",
        "colab_type": "code",
        "outputId": "b6e7a6b0-8bc4-4062-87a0-fa97bd75e1dc",
        "colab": {
          "base_uri": "https://localhost:8080/",
          "height": 34
        }
      },
      "source": [
        "np.log10(x)"
      ],
      "execution_count": 0,
      "outputs": [
        {
          "output_type": "execute_result",
          "data": {
            "text/plain": [
              "array([0.        , 0.30103   , 0.60205999, 1.        ])"
            ]
          },
          "metadata": {
            "tags": []
          },
          "execution_count": 91
        }
      ]
    },
    {
      "cell_type": "markdown",
      "metadata": {
        "id": "3td5cUB4JZHN",
        "colab_type": "text"
      },
      "source": [
        "###Aggregates"
      ]
    },
    {
      "cell_type": "code",
      "metadata": {
        "id": "3Zu00-5ZJOre",
        "colab_type": "code",
        "outputId": "80ce3a8a-2cbe-4244-f9f5-2b4193cb9dcb",
        "colab": {
          "base_uri": "https://localhost:8080/",
          "height": 34
        }
      },
      "source": [
        "x = np.arange(1,6)\n",
        "x"
      ],
      "execution_count": 0,
      "outputs": [
        {
          "output_type": "execute_result",
          "data": {
            "text/plain": [
              "array([1, 2, 3, 4, 5])"
            ]
          },
          "metadata": {
            "tags": []
          },
          "execution_count": 93
        }
      ]
    },
    {
      "cell_type": "code",
      "metadata": {
        "id": "jO1J3MzGJPHW",
        "colab_type": "code",
        "outputId": "cd48d4dc-026c-4ca5-9514-30da65a94d09",
        "colab": {
          "base_uri": "https://localhost:8080/",
          "height": 34
        }
      },
      "source": [
        "np.add.reduce(x)  #provides the sum of all the elements"
      ],
      "execution_count": 0,
      "outputs": [
        {
          "output_type": "execute_result",
          "data": {
            "text/plain": [
              "15"
            ]
          },
          "metadata": {
            "tags": []
          },
          "execution_count": 94
        }
      ]
    },
    {
      "cell_type": "code",
      "metadata": {
        "id": "VCxte8JuJPfX",
        "colab_type": "code",
        "outputId": "b3724a71-4244-4b8b-89ac-cb04b69b941a",
        "colab": {
          "base_uri": "https://localhost:8080/",
          "height": 34
        }
      },
      "source": [
        "np.multiply.reduce(x) #product of all array elements"
      ],
      "execution_count": 0,
      "outputs": [
        {
          "output_type": "execute_result",
          "data": {
            "text/plain": [
              "120"
            ]
          },
          "metadata": {
            "tags": []
          },
          "execution_count": 95
        }
      ]
    },
    {
      "cell_type": "code",
      "metadata": {
        "id": "HsgjwmFwJP4c",
        "colab_type": "code",
        "outputId": "aa8c8b44-e7c5-4c78-992f-aeb268d3aed4",
        "colab": {
          "base_uri": "https://localhost:8080/",
          "height": 34
        }
      },
      "source": [
        "np.add.accumulate(x)  #stores the intermediate results"
      ],
      "execution_count": 0,
      "outputs": [
        {
          "output_type": "execute_result",
          "data": {
            "text/plain": [
              "array([ 1,  3,  6, 10, 15])"
            ]
          },
          "metadata": {
            "tags": []
          },
          "execution_count": 96
        }
      ]
    },
    {
      "cell_type": "code",
      "metadata": {
        "id": "ztzqB_9vJQpL",
        "colab_type": "code",
        "outputId": "39056b5e-5f02-4f01-cf52-a3d6c6e9f89c",
        "colab": {
          "base_uri": "https://localhost:8080/",
          "height": 34
        }
      },
      "source": [
        "np.sum(x)    #provides the sum of all the elements"
      ],
      "execution_count": 0,
      "outputs": [
        {
          "output_type": "execute_result",
          "data": {
            "text/plain": [
              "15"
            ]
          },
          "metadata": {
            "tags": []
          },
          "execution_count": 97
        }
      ]
    },
    {
      "cell_type": "code",
      "metadata": {
        "id": "TjMGyDBAJRHL",
        "colab_type": "code",
        "outputId": "9613293d-43ea-47a8-f4ee-44765c179df8",
        "colab": {
          "base_uri": "https://localhost:8080/",
          "height": 34
        }
      },
      "source": [
        "np.min(x)  #provides the minimum value in the array"
      ],
      "execution_count": 0,
      "outputs": [
        {
          "output_type": "execute_result",
          "data": {
            "text/plain": [
              "1"
            ]
          },
          "metadata": {
            "tags": []
          },
          "execution_count": 99
        }
      ]
    },
    {
      "cell_type": "code",
      "metadata": {
        "id": "1drU2Qb2JQhk",
        "colab_type": "code",
        "outputId": "ca3c4997-b851-40eb-86ed-7084a46d36ca",
        "colab": {
          "base_uri": "https://localhost:8080/",
          "height": 34
        }
      },
      "source": [
        "np.max(x)  #provides the max value in array"
      ],
      "execution_count": 0,
      "outputs": [
        {
          "output_type": "execute_result",
          "data": {
            "text/plain": [
              "5"
            ]
          },
          "metadata": {
            "tags": []
          },
          "execution_count": 100
        }
      ]
    },
    {
      "cell_type": "code",
      "metadata": {
        "id": "0EzaeSAFJQaY",
        "colab_type": "code",
        "outputId": "bcaab9aa-7db2-42da-ca7e-e0f0a7007254",
        "colab": {
          "base_uri": "https://localhost:8080/",
          "height": 68
        }
      },
      "source": [
        "#Multidimensional aggregates\n",
        "M= np.random.random((3,4))\n",
        "M"
      ],
      "execution_count": 0,
      "outputs": [
        {
          "output_type": "execute_result",
          "data": {
            "text/plain": [
              "array([[0.67887953, 0.72063265, 0.58201979, 0.53737323],\n",
              "       [0.75861562, 0.10590761, 0.47360042, 0.18633234],\n",
              "       [0.73691818, 0.21655035, 0.13521817, 0.32414101]])"
            ]
          },
          "metadata": {
            "tags": []
          },
          "execution_count": 102
        }
      ]
    },
    {
      "cell_type": "code",
      "metadata": {
        "id": "2Iv4BvrcJQR7",
        "colab_type": "code",
        "outputId": "8c44cac0-8a13-4ba5-9647-5a09d98c9db2",
        "colab": {
          "base_uri": "https://localhost:8080/",
          "height": 34
        }
      },
      "source": [
        "M.sum()   #it aggregates over the entire array"
      ],
      "execution_count": 0,
      "outputs": [
        {
          "output_type": "execute_result",
          "data": {
            "text/plain": [
              "5.456188913304558"
            ]
          },
          "metadata": {
            "tags": []
          },
          "execution_count": 103
        }
      ]
    },
    {
      "cell_type": "code",
      "metadata": {
        "id": "ak6c31N9I5XV",
        "colab_type": "code",
        "outputId": "9da3e0d9-54b0-4192-de5e-24549c3049a0",
        "colab": {
          "base_uri": "https://localhost:8080/",
          "height": 34
        }
      },
      "source": [
        "M.min(axis=0)   #column wise aggregation"
      ],
      "execution_count": 0,
      "outputs": [
        {
          "output_type": "execute_result",
          "data": {
            "text/plain": [
              "array([0.67887953, 0.10590761, 0.13521817, 0.18633234])"
            ]
          },
          "metadata": {
            "tags": []
          },
          "execution_count": 104
        }
      ]
    },
    {
      "cell_type": "code",
      "metadata": {
        "id": "YbrLHw4EI6dy",
        "colab_type": "code",
        "outputId": "031f9c34-6173-4824-fcf0-721254de54aa",
        "colab": {
          "base_uri": "https://localhost:8080/",
          "height": 34
        }
      },
      "source": [
        "M.max(axis=1)   #rows wise aggregation"
      ],
      "execution_count": 0,
      "outputs": [
        {
          "output_type": "execute_result",
          "data": {
            "text/plain": [
              "array([0.72063265, 0.75861562, 0.73691818])"
            ]
          },
          "metadata": {
            "tags": []
          },
          "execution_count": 105
        }
      ]
    },
    {
      "cell_type": "code",
      "metadata": {
        "id": "_A8oOKRkG3rP",
        "colab_type": "code",
        "colab": {}
      },
      "source": [
        ""
      ],
      "execution_count": 0,
      "outputs": []
    }
  ]
}